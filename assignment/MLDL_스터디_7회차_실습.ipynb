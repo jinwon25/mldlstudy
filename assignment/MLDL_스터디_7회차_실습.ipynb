{
  "nbformat": 4,
  "nbformat_minor": 0,
  "metadata": {
    "colab": {
      "provenance": [],
      "collapsed_sections": [
        "TLWkDTITDLo3"
      ]
    },
    "kernelspec": {
      "name": "python3",
      "display_name": "Python 3"
    },
    "language_info": {
      "name": "python"
    }
  },
  "cells": [
    {
      "cell_type": "markdown",
      "source": [
        "# Chapter 09 텍스트를 위한 인공 신경망"
      ],
      "metadata": {
        "id": "MX0o9x3c8GPT"
      }
    },
    {
      "cell_type": "markdown",
      "source": [
        "## 09-2 순환 신경망으로 IMDB 리뷰 분류하기"
      ],
      "metadata": {
        "id": "iAYd5e8r8K21"
      }
    },
    {
      "cell_type": "markdown",
      "source": [
        "**말뭉치**<br>\n",
        "자연어 처리에서 사용하는 텍스트의 모음, 즉 훈련 데이터셋을 일컫음\n",
        "\n",
        "**토큰**<br>\n",
        "텍스트에서 공백으로 구분되는 문자열   \n",
        "=> 종종 소문자로 변환하고 구둣점은 삭제함\n",
        "\n",
        "**원-핫 인코딩**<br>\n",
        "어떤 클래스에 해당하는 원소만 1이고 나머지는 모두 0인 벡터   \n",
        "=> 정수로 변환된 원-핫 인코딩으로 변환하려면 어휘 사전 크기의 벡터가 만들어짐\n",
        "\n",
        "**단어 임베딩**<br>\n",
        "정수로 변환된 토큰을 비교적 작은 크기의 실수 밀집 벡터로 변환   \n",
        "=> 밀집 벡터는 단어 사이의 관계를 표현할 수 있기 때문에 자연어 처리에서 좋은 성능을 발휘함"
      ],
      "metadata": {
        "id": "qLQ6JvS2DuHe"
      }
    },
    {
      "cell_type": "markdown",
      "source": [
        "### IMDB 리뷰 데이터셋"
      ],
      "metadata": {
        "id": "nBKmQaSsBnP9"
      }
    },
    {
      "cell_type": "code",
      "source": [
        "from tensorflow.keras.datasets import imdb\n",
        "(train_input, train_target), (test_input, test_target) = imdb.load_data(num_words=200)"
      ],
      "metadata": {
        "colab": {
          "base_uri": "https://localhost:8080/"
        },
        "id": "AqMyq0S51-EI",
        "outputId": "51427d4c-ff70-4770-8cd1-d9eda3ac907e"
      },
      "execution_count": 1,
      "outputs": [
        {
          "output_type": "stream",
          "name": "stdout",
          "text": [
            "Downloading data from https://storage.googleapis.com/tensorflow/tf-keras-datasets/imdb.npz\n",
            "\u001b[1m17464789/17464789\u001b[0m \u001b[32m━━━━━━━━━━━━━━━━━━━━\u001b[0m\u001b[37m\u001b[0m \u001b[1m0s\u001b[0m 0us/step\n"
          ]
        }
      ]
    },
    {
      "cell_type": "code",
      "source": [
        "print(train_input.shape, test_input.shape)"
      ],
      "metadata": {
        "colab": {
          "base_uri": "https://localhost:8080/"
        },
        "id": "ThS2Fxe62HLT",
        "outputId": "c59f89c0-e75f-4aa3-b7a5-b36fad0e8a45"
      },
      "execution_count": 2,
      "outputs": [
        {
          "output_type": "stream",
          "name": "stdout",
          "text": [
            "(25000,) (25000,)\n"
          ]
        }
      ]
    },
    {
      "cell_type": "code",
      "source": [
        "print(len(train_input[0]))"
      ],
      "metadata": {
        "colab": {
          "base_uri": "https://localhost:8080/"
        },
        "id": "y6lHn6Qi2Lkt",
        "outputId": "594d22ee-79ea-45f2-c60c-decdb2aa112e"
      },
      "execution_count": 3,
      "outputs": [
        {
          "output_type": "stream",
          "name": "stdout",
          "text": [
            "218\n"
          ]
        }
      ]
    },
    {
      "cell_type": "code",
      "source": [
        "print(len(train_input[1]))"
      ],
      "metadata": {
        "colab": {
          "base_uri": "https://localhost:8080/"
        },
        "id": "SC_MfbT72OLq",
        "outputId": "a52f2f1b-19ab-4f63-c2b8-ed12c89a34ac"
      },
      "execution_count": 4,
      "outputs": [
        {
          "output_type": "stream",
          "name": "stdout",
          "text": [
            "189\n"
          ]
        }
      ]
    },
    {
      "cell_type": "code",
      "source": [
        "print(train_input[0])"
      ],
      "metadata": {
        "colab": {
          "base_uri": "https://localhost:8080/"
        },
        "id": "7gFLJggf2Vdi",
        "outputId": "e2602df0-cf02-48e5-dff5-d5de0a3d6beb"
      },
      "execution_count": 5,
      "outputs": [
        {
          "output_type": "stream",
          "name": "stdout",
          "text": [
            "[1, 14, 22, 16, 43, 2, 2, 2, 2, 65, 2, 2, 66, 2, 4, 173, 36, 2, 5, 25, 100, 43, 2, 112, 50, 2, 2, 9, 35, 2, 2, 5, 150, 4, 172, 112, 167, 2, 2, 2, 39, 4, 172, 2, 2, 17, 2, 38, 13, 2, 4, 192, 50, 16, 6, 147, 2, 19, 14, 22, 4, 2, 2, 2, 4, 22, 71, 87, 12, 16, 43, 2, 38, 76, 15, 13, 2, 4, 22, 17, 2, 17, 12, 16, 2, 18, 2, 5, 62, 2, 12, 8, 2, 8, 106, 5, 4, 2, 2, 16, 2, 66, 2, 33, 4, 130, 12, 16, 38, 2, 5, 25, 124, 51, 36, 135, 48, 25, 2, 33, 6, 22, 12, 2, 28, 77, 52, 5, 14, 2, 16, 82, 2, 8, 4, 107, 117, 2, 15, 2, 4, 2, 7, 2, 5, 2, 36, 71, 43, 2, 2, 26, 2, 2, 46, 7, 4, 2, 2, 13, 104, 88, 4, 2, 15, 2, 98, 32, 2, 56, 26, 141, 6, 194, 2, 18, 4, 2, 22, 21, 134, 2, 26, 2, 5, 144, 30, 2, 18, 51, 36, 28, 2, 92, 25, 104, 4, 2, 65, 16, 38, 2, 88, 12, 16, 2, 5, 16, 2, 113, 103, 32, 15, 16, 2, 19, 178, 32]\n"
          ]
        }
      ]
    },
    {
      "cell_type": "code",
      "source": [
        "print(train_target[:20])"
      ],
      "metadata": {
        "colab": {
          "base_uri": "https://localhost:8080/"
        },
        "id": "_9jyzLba2XfU",
        "outputId": "aa4058ca-1a74-4d3d-c40f-e41b5dc6995b"
      },
      "execution_count": 6,
      "outputs": [
        {
          "output_type": "stream",
          "name": "stdout",
          "text": [
            "[1 0 0 1 0 0 1 0 1 0 1 0 0 0 0 0 1 1 0 1]\n"
          ]
        }
      ]
    },
    {
      "cell_type": "code",
      "source": [
        "from sklearn.model_selection import train_test_split\n",
        "train_input, val_input, train_target, val_target = train_test_split(\n",
        "    train_input, train_target, test_size=0.2, random_state=42)"
      ],
      "metadata": {
        "id": "up0oA8ai2aQU"
      },
      "execution_count": 7,
      "outputs": []
    },
    {
      "cell_type": "code",
      "source": [
        "import numpy as np\n",
        "lengths = np.array([len(x) for x in train_input])"
      ],
      "metadata": {
        "id": "1rL3f3D32ntR"
      },
      "execution_count": 8,
      "outputs": []
    },
    {
      "cell_type": "code",
      "source": [
        "print(np.mean(lengths), np.median(lengths))"
      ],
      "metadata": {
        "colab": {
          "base_uri": "https://localhost:8080/"
        },
        "id": "-n4Y0s-q2nv0",
        "outputId": "641445a0-f30b-4d3f-c26c-91ca58fc5756"
      },
      "execution_count": 9,
      "outputs": [
        {
          "output_type": "stream",
          "name": "stdout",
          "text": [
            "239.00925 178.0\n"
          ]
        }
      ]
    },
    {
      "cell_type": "code",
      "source": [
        "import matplotlib.pyplot as plt\n",
        "plt.hist(lengths)\n",
        "plt.xlabel('length')\n",
        "plt.ylabel('frequency')\n",
        "plt.show()"
      ],
      "metadata": {
        "colab": {
          "base_uri": "https://localhost:8080/",
          "height": 449
        },
        "id": "UTiOg-AJ2nz9",
        "outputId": "8ded115b-bfdd-4e7c-d47f-4a410c0f279f"
      },
      "execution_count": 10,
      "outputs": [
        {
          "output_type": "display_data",
          "data": {
            "text/plain": [
              "<Figure size 640x480 with 1 Axes>"
            ],
            "image/png": "[encoded data removed]"
          },
          "metadata": {}
        }
      ]
    },
    {
      "cell_type": "code",
      "source": [
        "from tensorflow.keras.preprocessing.sequence import pad_sequences\n",
        "train_seq = pad_sequences(train_input, maxlen=100)"
      ],
      "metadata": {
        "id": "C9MIlnlH2n08"
      },
      "execution_count": 11,
      "outputs": []
    },
    {
      "cell_type": "code",
      "source": [
        "print(train_seq.shape)"
      ],
      "metadata": {
        "colab": {
          "base_uri": "https://localhost:8080/"
        },
        "id": "emvAraR52n1w",
        "outputId": "57d9c158-43e3-4786-e021-e40f7f015353"
      },
      "execution_count": 12,
      "outputs": [
        {
          "output_type": "stream",
          "name": "stdout",
          "text": [
            "(20000, 100)\n"
          ]
        }
      ]
    },
    {
      "cell_type": "code",
      "source": [
        "print(train_seq[0])"
      ],
      "metadata": {
        "colab": {
          "base_uri": "https://localhost:8080/"
        },
        "id": "NocQqlNR3ChO",
        "outputId": "60d5b54a-c846-42a9-8148-3d51463bc854"
      },
      "execution_count": 13,
      "outputs": [
        {
          "output_type": "stream",
          "name": "stdout",
          "text": [
            "[ 10   4  20   9   2   2   2   5  45   6   2   2  33   2   8   2 142   2\n",
            "   5   2  17  73  17   2   5   2  19  55   2   2  92  66 104  14  20  93\n",
            "  76   2 151  33   4  58  12 188   2 151  12   2  69   2 142  73   2   6\n",
            "   2   7   2   2 188   2 103  14  31  10  10   2   7   2   5   2  80  91\n",
            "   2  30   2  34  14  20 151  50  26 131  49   2  84  46  50  37  80  79\n",
            "   6   2  46   7  14  20  10  10   2 158]\n"
          ]
        }
      ]
    },
    {
      "cell_type": "code",
      "source": [
        "print(train_input[0][-10:])"
      ],
      "metadata": {
        "colab": {
          "base_uri": "https://localhost:8080/"
        },
        "id": "KEmjr0V33DxX",
        "outputId": "7eb46c01-a0d2-4ce3-e222-9ee3ab815048"
      },
      "execution_count": 14,
      "outputs": [
        {
          "output_type": "stream",
          "name": "stdout",
          "text": [
            "[6, 2, 46, 7, 14, 20, 10, 10, 2, 158]\n"
          ]
        }
      ]
    },
    {
      "cell_type": "code",
      "source": [
        "print(train_seq[5])"
      ],
      "metadata": {
        "colab": {
          "base_uri": "https://localhost:8080/"
        },
        "id": "3wDxJrvF3HQ7",
        "outputId": "0aabf6f1-94d6-4077-d57c-636c181c1edc"
      },
      "execution_count": 15,
      "outputs": [
        {
          "output_type": "stream",
          "name": "stdout",
          "text": [
            "[  0   0   0   0   1   2 195  19  49   2   2 190   4   2   2   2 183  10\n",
            "  10  13  82  79   4   2  36  71   2   8   2  25  19  49   7   4   2   2\n",
            "   2   2   2  10  10  48  25  40   2  11   2   2  40   2   2   5   4   2\n",
            "   2  95  14   2  56 129   2  10  10  21   2  94   2   2   2   2  11 190\n",
            "  24   2   2   7  94   2   2  10  10  87   2  34  49   2   7   2   2   2\n",
            "   2   2   2   2  46  48  64  18   4   2]\n"
          ]
        }
      ]
    },
    {
      "cell_type": "code",
      "source": [
        "val_seq = pad_sequences(val_input, maxlen=100)"
      ],
      "metadata": {
        "id": "LsnW9qem3HVl"
      },
      "execution_count": 16,
      "outputs": []
    },
    {
      "cell_type": "markdown",
      "source": [
        "### 순환 신경망 만들기"
      ],
      "metadata": {
        "id": "7j7pHcBqB2oT"
      }
    },
    {
      "cell_type": "code",
      "source": [
        "from tensorflow import keras\n",
        "model = keras.Sequential()\n",
        "model.add(keras.layers.SimpleRNN(8, input_shape=(100, 200)))\n",
        "model.add(keras.layers.Dense(1, activation='sigmoid'))"
      ],
      "metadata": {
        "colab": {
          "base_uri": "https://localhost:8080/"
        },
        "id": "eun5iIvs3HXS",
        "outputId": "ac16b526-6c2d-4910-ffad-f49ea35d3e9d"
      },
      "execution_count": 17,
      "outputs": [
        {
          "output_type": "stream",
          "name": "stderr",
          "text": [
            "/usr/local/lib/python3.11/dist-packages/keras/src/layers/rnn/rnn.py:200: UserWarning: Do not pass an `input_shape`/`input_dim` argument to a layer. When using Sequential models, prefer using an `Input(shape)` object as the first layer in the model instead.\n",
            "  super().__init__(**kwargs)\n"
          ]
        }
      ]
    },
    {
      "cell_type": "code",
      "source": [
        "train_oh = keras.utils.to_categorical(train_seq)"
      ],
      "metadata": {
        "id": "gpBvSalP3n-G"
      },
      "execution_count": 18,
      "outputs": []
    },
    {
      "cell_type": "code",
      "source": [
        "print(train_oh.shape)"
      ],
      "metadata": {
        "colab": {
          "base_uri": "https://localhost:8080/"
        },
        "id": "tXUewOHG3q0a",
        "outputId": "52a09870-4d40-4d0c-eb1a-b68fb772ed33"
      },
      "execution_count": 19,
      "outputs": [
        {
          "output_type": "stream",
          "name": "stdout",
          "text": [
            "(20000, 100, 200)\n"
          ]
        }
      ]
    },
    {
      "cell_type": "code",
      "source": [
        "print(train_oh[0][0][:12])"
      ],
      "metadata": {
        "colab": {
          "base_uri": "https://localhost:8080/"
        },
        "id": "4d4exZk93vS0",
        "outputId": "8a375419-9194-49b8-d989-da80e13748b7"
      },
      "execution_count": 20,
      "outputs": [
        {
          "output_type": "stream",
          "name": "stdout",
          "text": [
            "[0. 0. 0. 0. 0. 0. 0. 0. 0. 0. 1. 0.]\n"
          ]
        }
      ]
    },
    {
      "cell_type": "code",
      "source": [
        "print(np.sum(train_oh[0][0]))"
      ],
      "metadata": {
        "colab": {
          "base_uri": "https://localhost:8080/"
        },
        "id": "_i-kdC-k3vWp",
        "outputId": "ec537573-cfee-4c3b-c69c-77ed3f2492fc"
      },
      "execution_count": 21,
      "outputs": [
        {
          "output_type": "stream",
          "name": "stdout",
          "text": [
            "1.0\n"
          ]
        }
      ]
    },
    {
      "cell_type": "code",
      "source": [
        "val_oh = keras.utils.to_categorical(val_seq)"
      ],
      "metadata": {
        "id": "llxK0d_23vXx"
      },
      "execution_count": 22,
      "outputs": []
    },
    {
      "cell_type": "code",
      "source": [
        "model.summary()"
      ],
      "metadata": {
        "colab": {
          "base_uri": "https://localhost:8080/",
          "height": 199
        },
        "id": "VpY-Seej3vZk",
        "outputId": "5a0ca8eb-7a46-4f70-b220-2c5202c459ba"
      },
      "execution_count": 23,
      "outputs": [
        {
          "output_type": "display_data",
          "data": {
            "text/plain": [
              "\u001b[1mModel: \"sequential\"\u001b[0m\n"
            ],
            "text/html": [
              "<pre style=\"white-space:pre;overflow-x:auto;line-height:normal;font-family:Menlo,'DejaVu Sans Mono',consolas,'Courier New',monospace\"><span style=\"font-weight: bold\">Model: \"sequential\"</span>\n",
              "</pre>\n"
            ]
          },
          "metadata": {}
        },
        {
          "output_type": "display_data",
          "data": {
            "text/plain": [
              "┏━━━━━━━━━━━━━━━━━━━━━━━━━━━━━━━━━┳━━━━━━━━━━━━━━━━━━━━━━━━┳━━━━━━━━━━━━━━━┓\n",
              "┃\u001b[1m \u001b[0m\u001b[1mLayer (type)                   \u001b[0m\u001b[1m \u001b[0m┃\u001b[1m \u001b[0m\u001b[1mOutput Shape          \u001b[0m\u001b[1m \u001b[0m┃\u001b[1m \u001b[0m\u001b[1m      Param #\u001b[0m\u001b[1m \u001b[0m┃\n",
              "┡━━━━━━━━━━━━━━━━━━━━━━━━━━━━━━━━━╇━━━━━━━━━━━━━━━━━━━━━━━━╇━━━━━━━━━━━━━━━┩\n",
              "│ simple_rnn (\u001b[38;5;33mSimpleRNN\u001b[0m)          │ (\u001b[38;5;45mNone\u001b[0m, \u001b[38;5;34m8\u001b[0m)              │         \u001b[38;5;34m1,672\u001b[0m │\n",
              "├─────────────────────────────────┼────────────────────────┼───────────────┤\n",
              "│ dense (\u001b[38;5;33mDense\u001b[0m)                   │ (\u001b[38;5;45mNone\u001b[0m, \u001b[38;5;34m1\u001b[0m)              │             \u001b[38;5;34m9\u001b[0m │\n",
              "└─────────────────────────────────┴────────────────────────┴───────────────┘\n"
            ],
            "text/html": [
              "<pre style=\"white-space:pre;overflow-x:auto;line-height:normal;font-family:Menlo,'DejaVu Sans Mono',consolas,'Courier New',monospace\">┏━━━━━━━━━━━━━━━━━━━━━━━━━━━━━━━━━┳━━━━━━━━━━━━━━━━━━━━━━━━┳━━━━━━━━━━━━━━━┓\n",
              "┃<span style=\"font-weight: bold\"> Layer (type)                    </span>┃<span style=\"font-weight: bold\"> Output Shape           </span>┃<span style=\"font-weight: bold\">       Param # </span>┃\n",
              "┡━━━━━━━━━━━━━━━━━━━━━━━━━━━━━━━━━╇━━━━━━━━━━━━━━━━━━━━━━━━╇━━━━━━━━━━━━━━━┩\n",
              "│ simple_rnn (<span style=\"color: #0087ff; text-decoration-color: #0087ff\">SimpleRNN</span>)          │ (<span style=\"color: #00d7ff; text-decoration-color: #00d7ff\">None</span>, <span style=\"color: #00af00; text-decoration-color: #00af00\">8</span>)              │         <span style=\"color: #00af00; text-decoration-color: #00af00\">1,672</span> │\n",
              "├─────────────────────────────────┼────────────────────────┼───────────────┤\n",
              "│ dense (<span style=\"color: #0087ff; text-decoration-color: #0087ff\">Dense</span>)                   │ (<span style=\"color: #00d7ff; text-decoration-color: #00d7ff\">None</span>, <span style=\"color: #00af00; text-decoration-color: #00af00\">1</span>)              │             <span style=\"color: #00af00; text-decoration-color: #00af00\">9</span> │\n",
              "└─────────────────────────────────┴────────────────────────┴───────────────┘\n",
              "</pre>\n"
            ]
          },
          "metadata": {}
        },
        {
          "output_type": "display_data",
          "data": {
            "text/plain": [
              "\u001b[1m Total params: \u001b[0m\u001b[38;5;34m1,681\u001b[0m (6.57 KB)\n"
            ],
            "text/html": [
              "<pre style=\"white-space:pre;overflow-x:auto;line-height:normal;font-family:Menlo,'DejaVu Sans Mono',consolas,'Courier New',monospace\"><span style=\"font-weight: bold\"> Total params: </span><span style=\"color: #00af00; text-decoration-color: #00af00\">1,681</span> (6.57 KB)\n",
              "</pre>\n"
            ]
          },
          "metadata": {}
        },
        {
          "output_type": "display_data",
          "data": {
            "text/plain": [
              "\u001b[1m Trainable params: \u001b[0m\u001b[38;5;34m1,681\u001b[0m (6.57 KB)\n"
            ],
            "text/html": [
              "<pre style=\"white-space:pre;overflow-x:auto;line-height:normal;font-family:Menlo,'DejaVu Sans Mono',consolas,'Courier New',monospace\"><span style=\"font-weight: bold\"> Trainable params: </span><span style=\"color: #00af00; text-decoration-color: #00af00\">1,681</span> (6.57 KB)\n",
              "</pre>\n"
            ]
          },
          "metadata": {}
        },
        {
          "output_type": "display_data",
          "data": {
            "text/plain": [
              "\u001b[1m Non-trainable params: \u001b[0m\u001b[38;5;34m0\u001b[0m (0.00 B)\n"
            ],
            "text/html": [
              "<pre style=\"white-space:pre;overflow-x:auto;line-height:normal;font-family:Menlo,'DejaVu Sans Mono',consolas,'Courier New',monospace\"><span style=\"font-weight: bold\"> Non-trainable params: </span><span style=\"color: #00af00; text-decoration-color: #00af00\">0</span> (0.00 B)\n",
              "</pre>\n"
            ]
          },
          "metadata": {}
        }
      ]
    },
    {
      "cell_type": "markdown",
      "source": [
        "### 순환 신경망 훈련하기"
      ],
      "metadata": {
        "id": "fQV6bDVjB7X7"
      }
    },
    {
      "cell_type": "code",
      "source": [
        "rmsprop = keras.optimizers.RMSprop(learning_rate=1e-4)\n",
        "model.compile(optimizer=rmsprop, loss='binary_crossentropy',\n",
        "              metrics=['accuracy'])\n",
        "checkpoint_cb = keras.callbacks.ModelCheckpoint('best-simplernn-model.keras',\n",
        "                                                save_best_only=True)\n",
        "early_stopping_cb = keras.callbacks.EarlyStopping(patience=3,\n",
        "                                                  restore_best_weights=True)\n",
        "history = model.fit(train_oh, train_target, epochs=100, batch_size=64,\n",
        "                    validation_data=(val_oh, val_target),\n",
        "                    callbacks=[checkpoint_cb, early_stopping_cb])"
      ],
      "metadata": {
        "colab": {
          "base_uri": "https://localhost:8080/"
        },
        "id": "8biTzBo63va-",
        "outputId": "592f7111-5b2b-4e38-bef1-9e84faa46110"
      },
      "execution_count": 24,
      "outputs": [
        {
          "output_type": "stream",
          "name": "stdout",
          "text": [
            "Epoch 1/100\n",
            "\u001b[1m313/313\u001b[0m \u001b[32m━━━━━━━━━━━━━━━━━━━━\u001b[0m\u001b[37m\u001b[0m \u001b[1m12s\u001b[0m 32ms/step - accuracy: 0.4915 - loss: 0.7030 - val_accuracy: 0.4878 - val_loss: 0.7006\n",
            "Epoch 2/100\n",
            "\u001b[1m313/313\u001b[0m \u001b[32m━━━━━━━━━━━━━━━━━━━━\u001b[0m\u001b[37m\u001b[0m \u001b[1m7s\u001b[0m 22ms/step - accuracy: 0.4965 - loss: 0.6976 - val_accuracy: 0.4964 - val_loss: 0.6972\n",
            "Epoch 3/100\n",
            "\u001b[1m313/313\u001b[0m \u001b[32m━━━━━━━━━━━━━━━━━━━━\u001b[0m\u001b[37m\u001b[0m \u001b[1m12s\u001b[0m 28ms/step - accuracy: 0.5045 - loss: 0.6950 - val_accuracy: 0.4988 - val_loss: 0.6957\n",
            "Epoch 4/100\n",
            "\u001b[1m313/313\u001b[0m \u001b[32m━━━━━━━━━━━━━━━━━━━━\u001b[0m\u001b[37m\u001b[0m \u001b[1m9s\u001b[0m 25ms/step - accuracy: 0.5044 - loss: 0.6941 - val_accuracy: 0.5022 - val_loss: 0.6946\n",
            "Epoch 5/100\n",
            "\u001b[1m313/313\u001b[0m \u001b[32m━━━━━━━━━━━━━━━━━━━━\u001b[0m\u001b[37m\u001b[0m \u001b[1m8s\u001b[0m 27ms/step - accuracy: 0.5120 - loss: 0.6927 - val_accuracy: 0.5082 - val_loss: 0.6938\n",
            "Epoch 6/100\n",
            "\u001b[1m313/313\u001b[0m \u001b[32m━━━━━━━━━━━━━━━━━━━━\u001b[0m\u001b[37m\u001b[0m \u001b[1m7s\u001b[0m 23ms/step - accuracy: 0.5103 - loss: 0.6925 - val_accuracy: 0.5184 - val_loss: 0.6930\n",
            "Epoch 7/100\n",
            "\u001b[1m313/313\u001b[0m \u001b[32m━━━━━━━━━━━━━━━━━━━━\u001b[0m\u001b[37m\u001b[0m \u001b[1m15s\u001b[0m 38ms/step - accuracy: 0.5282 - loss: 0.6909 - val_accuracy: 0.5138 - val_loss: 0.6928\n",
            "Epoch 8/100\n",
            "\u001b[1m313/313\u001b[0m \u001b[32m━━━━━━━━━━━━━━━━━━━━\u001b[0m\u001b[37m\u001b[0m \u001b[1m18s\u001b[0m 31ms/step - accuracy: 0.5279 - loss: 0.6901 - val_accuracy: 0.5156 - val_loss: 0.6921\n",
            "Epoch 9/100\n",
            "\u001b[1m313/313\u001b[0m \u001b[32m━━━━━━━━━━━━━━━━━━━━\u001b[0m\u001b[37m\u001b[0m \u001b[1m10s\u001b[0m 30ms/step - accuracy: 0.5352 - loss: 0.6894 - val_accuracy: 0.5282 - val_loss: 0.6913\n",
            "Epoch 10/100\n",
            "\u001b[1m313/313\u001b[0m \u001b[32m━━━━━━━━━━━━━━━━━━━━\u001b[0m\u001b[37m\u001b[0m \u001b[1m9s\u001b[0m 25ms/step - accuracy: 0.5356 - loss: 0.6892 - val_accuracy: 0.5330 - val_loss: 0.6906\n",
            "Epoch 11/100\n",
            "\u001b[1m313/313\u001b[0m \u001b[32m━━━━━━━━━━━━━━━━━━━━\u001b[0m\u001b[37m\u001b[0m \u001b[1m13s\u001b[0m 33ms/step - accuracy: 0.5360 - loss: 0.6884 - val_accuracy: 0.5360 - val_loss: 0.6900\n",
            "Epoch 12/100\n",
            "\u001b[1m313/313\u001b[0m \u001b[32m━━━━━━━━━━━━━━━━━━━━\u001b[0m\u001b[37m\u001b[0m \u001b[1m20s\u001b[0m 31ms/step - accuracy: 0.5394 - loss: 0.6878 - val_accuracy: 0.5366 - val_loss: 0.6896\n",
            "Epoch 13/100\n",
            "\u001b[1m313/313\u001b[0m \u001b[32m━━━━━━━━━━━━━━━━━━━━\u001b[0m\u001b[37m\u001b[0m \u001b[1m8s\u001b[0m 23ms/step - accuracy: 0.5514 - loss: 0.6856 - val_accuracy: 0.5360 - val_loss: 0.6891\n",
            "Epoch 14/100\n",
            "\u001b[1m313/313\u001b[0m \u001b[32m━━━━━━━━━━━━━━━━━━━━\u001b[0m\u001b[37m\u001b[0m \u001b[1m10s\u001b[0m 22ms/step - accuracy: 0.5460 - loss: 0.6856 - val_accuracy: 0.5368 - val_loss: 0.6884\n",
            "Epoch 15/100\n",
            "\u001b[1m313/313\u001b[0m \u001b[32m━━━━━━━━━━━━━━━━━━━━\u001b[0m\u001b[37m\u001b[0m \u001b[1m9s\u001b[0m 29ms/step - accuracy: 0.5526 - loss: 0.6840 - val_accuracy: 0.5334 - val_loss: 0.6881\n",
            "Epoch 16/100\n",
            "\u001b[1m313/313\u001b[0m \u001b[32m━━━━━━━━━━━━━━━━━━━━\u001b[0m\u001b[37m\u001b[0m \u001b[1m7s\u001b[0m 24ms/step - accuracy: 0.5519 - loss: 0.6838 - val_accuracy: 0.5416 - val_loss: 0.6863\n",
            "Epoch 17/100\n",
            "\u001b[1m313/313\u001b[0m \u001b[32m━━━━━━━━━━━━━━━━━━━━\u001b[0m\u001b[37m\u001b[0m \u001b[1m8s\u001b[0m 25ms/step - accuracy: 0.5620 - loss: 0.6803 - val_accuracy: 0.5696 - val_loss: 0.6795\n",
            "Epoch 18/100\n",
            "\u001b[1m313/313\u001b[0m \u001b[32m━━━━━━━━━━━━━━━━━━━━\u001b[0m\u001b[37m\u001b[0m \u001b[1m9s\u001b[0m 27ms/step - accuracy: 0.5794 - loss: 0.6732 - val_accuracy: 0.5988 - val_loss: 0.6708\n",
            "Epoch 19/100\n",
            "\u001b[1m313/313\u001b[0m \u001b[32m━━━━━━━━━━━━━━━━━━━━\u001b[0m\u001b[37m\u001b[0m \u001b[1m8s\u001b[0m 26ms/step - accuracy: 0.6091 - loss: 0.6625 - val_accuracy: 0.6158 - val_loss: 0.6606\n",
            "Epoch 20/100\n",
            "\u001b[1m313/313\u001b[0m \u001b[32m━━━━━━━━━━━━━━━━━━━━\u001b[0m\u001b[37m\u001b[0m \u001b[1m11s\u001b[0m 30ms/step - accuracy: 0.6272 - loss: 0.6533 - val_accuracy: 0.6292 - val_loss: 0.6510\n",
            "Epoch 21/100\n",
            "\u001b[1m313/313\u001b[0m \u001b[32m━━━━━━━━━━━━━━━━━━━━\u001b[0m\u001b[37m\u001b[0m \u001b[1m9s\u001b[0m 29ms/step - accuracy: 0.6399 - loss: 0.6450 - val_accuracy: 0.6434 - val_loss: 0.6408\n",
            "Epoch 22/100\n",
            "\u001b[1m313/313\u001b[0m \u001b[32m━━━━━━━━━━━━━━━━━━━━\u001b[0m\u001b[37m\u001b[0m \u001b[1m8s\u001b[0m 24ms/step - accuracy: 0.6582 - loss: 0.6328 - val_accuracy: 0.6532 - val_loss: 0.6314\n",
            "Epoch 23/100\n",
            "\u001b[1m313/313\u001b[0m \u001b[32m━━━━━━━━━━━━━━━━━━━━\u001b[0m\u001b[37m\u001b[0m \u001b[1m10s\u001b[0m 23ms/step - accuracy: 0.6684 - loss: 0.6247 - val_accuracy: 0.6702 - val_loss: 0.6228\n",
            "Epoch 24/100\n",
            "\u001b[1m313/313\u001b[0m \u001b[32m━━━━━━━━━━━━━━━━━━━━\u001b[0m\u001b[37m\u001b[0m \u001b[1m11s\u001b[0m 26ms/step - accuracy: 0.6788 - loss: 0.6148 - val_accuracy: 0.6750 - val_loss: 0.6149\n",
            "Epoch 25/100\n",
            "\u001b[1m313/313\u001b[0m \u001b[32m━━━━━━━━━━━━━━━━━━━━\u001b[0m\u001b[37m\u001b[0m \u001b[1m8s\u001b[0m 27ms/step - accuracy: 0.6901 - loss: 0.6047 - val_accuracy: 0.6828 - val_loss: 0.6083\n",
            "Epoch 26/100\n",
            "\u001b[1m313/313\u001b[0m \u001b[32m━━━━━━━━━━━━━━━━━━━━\u001b[0m\u001b[37m\u001b[0m \u001b[1m9s\u001b[0m 24ms/step - accuracy: 0.6879 - loss: 0.6018 - val_accuracy: 0.6836 - val_loss: 0.6034\n",
            "Epoch 27/100\n",
            "\u001b[1m313/313\u001b[0m \u001b[32m━━━━━━━━━━━━━━━━━━━━\u001b[0m\u001b[37m\u001b[0m \u001b[1m10s\u001b[0m 23ms/step - accuracy: 0.6971 - loss: 0.5933 - val_accuracy: 0.6930 - val_loss: 0.5941\n",
            "Epoch 28/100\n",
            "\u001b[1m313/313\u001b[0m \u001b[32m━━━━━━━━━━━━━━━━━━━━\u001b[0m\u001b[37m\u001b[0m \u001b[1m11s\u001b[0m 26ms/step - accuracy: 0.7071 - loss: 0.5829 - val_accuracy: 0.6964 - val_loss: 0.5879\n",
            "Epoch 29/100\n",
            "\u001b[1m313/313\u001b[0m \u001b[32m━━━━━━━━━━━━━━━━━━━━\u001b[0m\u001b[37m\u001b[0m \u001b[1m11s\u001b[0m 27ms/step - accuracy: 0.7108 - loss: 0.5787 - val_accuracy: 0.7042 - val_loss: 0.5844\n",
            "Epoch 30/100\n",
            "\u001b[1m313/313\u001b[0m \u001b[32m━━━━━━━━━━━━━━━━━━━━\u001b[0m\u001b[37m\u001b[0m \u001b[1m11s\u001b[0m 30ms/step - accuracy: 0.7096 - loss: 0.5790 - val_accuracy: 0.7026 - val_loss: 0.5822\n",
            "Epoch 31/100\n",
            "\u001b[1m313/313\u001b[0m \u001b[32m━━━━━━━━━━━━━━━━━━━━\u001b[0m\u001b[37m\u001b[0m \u001b[1m8s\u001b[0m 24ms/step - accuracy: 0.7099 - loss: 0.5745 - val_accuracy: 0.7104 - val_loss: 0.5758\n",
            "Epoch 32/100\n",
            "\u001b[1m313/313\u001b[0m \u001b[32m━━━━━━━━━━━━━━━━━━━━\u001b[0m\u001b[37m\u001b[0m \u001b[1m10s\u001b[0m 24ms/step - accuracy: 0.7234 - loss: 0.5662 - val_accuracy: 0.7106 - val_loss: 0.5733\n",
            "Epoch 33/100\n",
            "\u001b[1m313/313\u001b[0m \u001b[32m━━━━━━━━━━━━━━━━━━━━\u001b[0m\u001b[37m\u001b[0m \u001b[1m9s\u001b[0m 29ms/step - accuracy: 0.7240 - loss: 0.5630 - val_accuracy: 0.7148 - val_loss: 0.5708\n",
            "Epoch 34/100\n",
            "\u001b[1m313/313\u001b[0m \u001b[32m━━━━━━━━━━━━━━━━━━━━\u001b[0m\u001b[37m\u001b[0m \u001b[1m9s\u001b[0m 26ms/step - accuracy: 0.7259 - loss: 0.5583 - val_accuracy: 0.7140 - val_loss: 0.5683\n",
            "Epoch 35/100\n",
            "\u001b[1m313/313\u001b[0m \u001b[32m━━━━━━━━━━━━━━━━━━━━\u001b[0m\u001b[37m\u001b[0m \u001b[1m7s\u001b[0m 23ms/step - accuracy: 0.7260 - loss: 0.5564 - val_accuracy: 0.7170 - val_loss: 0.5682\n",
            "Epoch 36/100\n",
            "\u001b[1m313/313\u001b[0m \u001b[32m━━━━━━━━━━━━━━━━━━━━\u001b[0m\u001b[37m\u001b[0m \u001b[1m9s\u001b[0m 29ms/step - accuracy: 0.7249 - loss: 0.5615 - val_accuracy: 0.7182 - val_loss: 0.5657\n",
            "Epoch 37/100\n",
            "\u001b[1m313/313\u001b[0m \u001b[32m━━━━━━━━━━━━━━━━━━━━\u001b[0m\u001b[37m\u001b[0m \u001b[1m12s\u001b[0m 35ms/step - accuracy: 0.7287 - loss: 0.5553 - val_accuracy: 0.7172 - val_loss: 0.5657\n",
            "Epoch 38/100\n",
            "\u001b[1m313/313\u001b[0m \u001b[32m━━━━━━━━━━━━━━━━━━━━\u001b[0m\u001b[37m\u001b[0m \u001b[1m21s\u001b[0m 36ms/step - accuracy: 0.7329 - loss: 0.5521 - val_accuracy: 0.7174 - val_loss: 0.5649\n",
            "Epoch 39/100\n",
            "\u001b[1m313/313\u001b[0m \u001b[32m━━━━━━━━━━━━━━━━━━━━\u001b[0m\u001b[37m\u001b[0m \u001b[1m20s\u001b[0m 35ms/step - accuracy: 0.7279 - loss: 0.5537 - val_accuracy: 0.7178 - val_loss: 0.5645\n",
            "Epoch 40/100\n",
            "\u001b[1m313/313\u001b[0m \u001b[32m━━━━━━━━━━━━━━━━━━━━\u001b[0m\u001b[37m\u001b[0m \u001b[1m17s\u001b[0m 25ms/step - accuracy: 0.7316 - loss: 0.5502 - val_accuracy: 0.7248 - val_loss: 0.5613\n",
            "Epoch 41/100\n",
            "\u001b[1m313/313\u001b[0m \u001b[32m━━━━━━━━━━━━━━━━━━━━\u001b[0m\u001b[37m\u001b[0m \u001b[1m10s\u001b[0m 33ms/step - accuracy: 0.7300 - loss: 0.5515 - val_accuracy: 0.7218 - val_loss: 0.5616\n",
            "Epoch 42/100\n",
            "\u001b[1m313/313\u001b[0m \u001b[32m━━━━━━━━━━━━━━━━━━━━\u001b[0m\u001b[37m\u001b[0m \u001b[1m18s\u001b[0m 24ms/step - accuracy: 0.7321 - loss: 0.5484 - val_accuracy: 0.7242 - val_loss: 0.5566\n",
            "Epoch 43/100\n",
            "\u001b[1m313/313\u001b[0m \u001b[32m━━━━━━━━━━━━━━━━━━━━\u001b[0m\u001b[37m\u001b[0m \u001b[1m10s\u001b[0m 25ms/step - accuracy: 0.7350 - loss: 0.5472 - val_accuracy: 0.7266 - val_loss: 0.5552\n",
            "Epoch 44/100\n",
            "\u001b[1m313/313\u001b[0m \u001b[32m━━━━━━━━━━━━━━━━━━━━\u001b[0m\u001b[37m\u001b[0m \u001b[1m10s\u001b[0m 31ms/step - accuracy: 0.7354 - loss: 0.5457 - val_accuracy: 0.7182 - val_loss: 0.5618\n",
            "Epoch 45/100\n",
            "\u001b[1m313/313\u001b[0m \u001b[32m━━━━━━━━━━━━━━━━━━━━\u001b[0m\u001b[37m\u001b[0m \u001b[1m10s\u001b[0m 31ms/step - accuracy: 0.7365 - loss: 0.5429 - val_accuracy: 0.7268 - val_loss: 0.5539\n",
            "Epoch 46/100\n",
            "\u001b[1m313/313\u001b[0m \u001b[32m━━━━━━━━━━━━━━━━━━━━\u001b[0m\u001b[37m\u001b[0m \u001b[1m8s\u001b[0m 25ms/step - accuracy: 0.7275 - loss: 0.5521 - val_accuracy: 0.7254 - val_loss: 0.5540\n",
            "Epoch 47/100\n",
            "\u001b[1m313/313\u001b[0m \u001b[32m━━━━━━━━━━━━━━━━━━━━\u001b[0m\u001b[37m\u001b[0m \u001b[1m9s\u001b[0m 28ms/step - accuracy: 0.7361 - loss: 0.5415 - val_accuracy: 0.7256 - val_loss: 0.5522\n",
            "Epoch 48/100\n",
            "\u001b[1m313/313\u001b[0m \u001b[32m━━━━━━━━━━━━━━━━━━━━\u001b[0m\u001b[37m\u001b[0m \u001b[1m8s\u001b[0m 26ms/step - accuracy: 0.7337 - loss: 0.5424 - val_accuracy: 0.7266 - val_loss: 0.5521\n",
            "Epoch 49/100\n",
            "\u001b[1m313/313\u001b[0m \u001b[32m━━━━━━━━━━━━━━━━━━━━\u001b[0m\u001b[37m\u001b[0m \u001b[1m9s\u001b[0m 23ms/step - accuracy: 0.7328 - loss: 0.5457 - val_accuracy: 0.7224 - val_loss: 0.5540\n",
            "Epoch 50/100\n",
            "\u001b[1m313/313\u001b[0m \u001b[32m━━━━━━━━━━━━━━━━━━━━\u001b[0m\u001b[37m\u001b[0m \u001b[1m9s\u001b[0m 29ms/step - accuracy: 0.7391 - loss: 0.5410 - val_accuracy: 0.7286 - val_loss: 0.5529\n",
            "Epoch 51/100\n",
            "\u001b[1m313/313\u001b[0m \u001b[32m━━━━━━━━━━━━━━━━━━━━\u001b[0m\u001b[37m\u001b[0m \u001b[1m9s\u001b[0m 28ms/step - accuracy: 0.7359 - loss: 0.5416 - val_accuracy: 0.7300 - val_loss: 0.5500\n",
            "Epoch 52/100\n",
            "\u001b[1m313/313\u001b[0m \u001b[32m━━━━━━━━━━━━━━━━━━━━\u001b[0m\u001b[37m\u001b[0m \u001b[1m9s\u001b[0m 25ms/step - accuracy: 0.7393 - loss: 0.5434 - val_accuracy: 0.7284 - val_loss: 0.5490\n",
            "Epoch 53/100\n",
            "\u001b[1m313/313\u001b[0m \u001b[32m━━━━━━━━━━━━━━━━━━━━\u001b[0m\u001b[37m\u001b[0m \u001b[1m10s\u001b[0m 31ms/step - accuracy: 0.7393 - loss: 0.5397 - val_accuracy: 0.7288 - val_loss: 0.5484\n",
            "Epoch 54/100\n",
            "\u001b[1m313/313\u001b[0m \u001b[32m━━━━━━━━━━━━━━━━━━━━\u001b[0m\u001b[37m\u001b[0m \u001b[1m9s\u001b[0m 29ms/step - accuracy: 0.7384 - loss: 0.5405 - val_accuracy: 0.7294 - val_loss: 0.5484\n",
            "Epoch 55/100\n",
            "\u001b[1m313/313\u001b[0m \u001b[32m━━━━━━━━━━━━━━━━━━━━\u001b[0m\u001b[37m\u001b[0m \u001b[1m12s\u001b[0m 34ms/step - accuracy: 0.7346 - loss: 0.5434 - val_accuracy: 0.7272 - val_loss: 0.5493\n",
            "Epoch 56/100\n",
            "\u001b[1m313/313\u001b[0m \u001b[32m━━━━━━━━━━━━━━━━━━━━\u001b[0m\u001b[37m\u001b[0m \u001b[1m19s\u001b[0m 29ms/step - accuracy: 0.7391 - loss: 0.5392 - val_accuracy: 0.7276 - val_loss: 0.5483\n",
            "Epoch 57/100\n",
            "\u001b[1m313/313\u001b[0m \u001b[32m━━━━━━━━━━━━━━━━━━━━\u001b[0m\u001b[37m\u001b[0m \u001b[1m12s\u001b[0m 34ms/step - accuracy: 0.7388 - loss: 0.5366 - val_accuracy: 0.7312 - val_loss: 0.5472\n",
            "Epoch 58/100\n",
            "\u001b[1m313/313\u001b[0m \u001b[32m━━━━━━━━━━━━━━━━━━━━\u001b[0m\u001b[37m\u001b[0m \u001b[1m18s\u001b[0m 27ms/step - accuracy: 0.7431 - loss: 0.5332 - val_accuracy: 0.7322 - val_loss: 0.5468\n",
            "Epoch 59/100\n",
            "\u001b[1m313/313\u001b[0m \u001b[32m━━━━━━━━━━━━━━━━━━━━\u001b[0m\u001b[37m\u001b[0m \u001b[1m9s\u001b[0m 30ms/step - accuracy: 0.7389 - loss: 0.5388 - val_accuracy: 0.7282 - val_loss: 0.5508\n",
            "Epoch 60/100\n",
            "\u001b[1m313/313\u001b[0m \u001b[32m━━━━━━━━━━━━━━━━━━━━\u001b[0m\u001b[37m\u001b[0m \u001b[1m9s\u001b[0m 29ms/step - accuracy: 0.7413 - loss: 0.5336 - val_accuracy: 0.7300 - val_loss: 0.5456\n",
            "Epoch 61/100\n",
            "\u001b[1m313/313\u001b[0m \u001b[32m━━━━━━━━━━━━━━━━━━━━\u001b[0m\u001b[37m\u001b[0m \u001b[1m9s\u001b[0m 25ms/step - accuracy: 0.7462 - loss: 0.5290 - val_accuracy: 0.7296 - val_loss: 0.5472\n",
            "Epoch 62/100\n",
            "\u001b[1m313/313\u001b[0m \u001b[32m━━━━━━━━━━━━━━━━━━━━\u001b[0m\u001b[37m\u001b[0m \u001b[1m11s\u001b[0m 27ms/step - accuracy: 0.7376 - loss: 0.5411 - val_accuracy: 0.7296 - val_loss: 0.5460\n",
            "Epoch 63/100\n",
            "\u001b[1m313/313\u001b[0m \u001b[32m━━━━━━━━━━━━━━━━━━━━\u001b[0m\u001b[37m\u001b[0m \u001b[1m11s\u001b[0m 30ms/step - accuracy: 0.7368 - loss: 0.5438 - val_accuracy: 0.7284 - val_loss: 0.5480\n"
          ]
        }
      ]
    },
    {
      "cell_type": "code",
      "source": [
        "plt.plot(history.history['loss'])\n",
        "plt.plot(history.history['val_loss'])\n",
        "plt.xlabel('epoch')\n",
        "plt.ylabel('loss')\n",
        "plt.legend(['train', 'val'])\n",
        "plt.show()"
      ],
      "metadata": {
        "id": "3y6MvePn3vcS",
        "colab": {
          "base_uri": "https://localhost:8080/",
          "height": 449
        },
        "outputId": "83f635e8-5688-4483-8bb3-2d57d3570723"
      },
      "execution_count": 25,
      "outputs": [
        {
          "output_type": "display_data",
          "data": {
            "text/plain": [
              "<Figure size 640x480 with 1 Axes>"
            ],
            "image/png": "[encoded data removed]"
          },
          "metadata": {}
        }
      ]
    },
    {
      "cell_type": "code",
      "source": [
        "print(train_seq.nbytes, train_oh.nbytes)"
      ],
      "metadata": {
        "id": "s5-L3DOo3veX",
        "colab": {
          "base_uri": "https://localhost:8080/"
        },
        "outputId": "f9abe97b-2f61-4958-a1e6-97a837d830e8"
      },
      "execution_count": 26,
      "outputs": [
        {
          "output_type": "stream",
          "name": "stdout",
          "text": [
            "8000000 3200000000\n"
          ]
        }
      ]
    },
    {
      "cell_type": "markdown",
      "source": [
        "### 단어 임베딩을 사용하기"
      ],
      "metadata": {
        "id": "1wxuhiVOCB8T"
      }
    },
    {
      "cell_type": "code",
      "source": [
        "model2 = keras.Sequential()\n",
        "model2.add(keras.layers.Embedding(200, 16, input_shape=(100,)))\n",
        "model2.add(keras.layers.SimpleRNN(8))\n",
        "model2.add(keras.layers.Dense(1, activation='sigmoid'))"
      ],
      "metadata": {
        "id": "jeMCyfpo5gcJ",
        "colab": {
          "base_uri": "https://localhost:8080/"
        },
        "outputId": "e01ce82b-b259-4daa-cee7-dcab716ad3c5"
      },
      "execution_count": 27,
      "outputs": [
        {
          "output_type": "stream",
          "name": "stderr",
          "text": [
            "/usr/local/lib/python3.11/dist-packages/keras/src/layers/core/embedding.py:93: UserWarning: Do not pass an `input_shape`/`input_dim` argument to a layer. When using Sequential models, prefer using an `Input(shape)` object as the first layer in the model instead.\n",
            "  super().__init__(**kwargs)\n"
          ]
        }
      ]
    },
    {
      "cell_type": "code",
      "source": [
        "model2.summary()"
      ],
      "metadata": {
        "id": "mawO-OG65sBw",
        "colab": {
          "base_uri": "https://localhost:8080/",
          "height": 232
        },
        "outputId": "84610dce-6ef3-4b68-9dbd-69df8550e5ae"
      },
      "execution_count": 28,
      "outputs": [
        {
          "output_type": "display_data",
          "data": {
            "text/plain": [
              "\u001b[1mModel: \"sequential_1\"\u001b[0m\n"
            ],
            "text/html": [
              "<pre style=\"white-space:pre;overflow-x:auto;line-height:normal;font-family:Menlo,'DejaVu Sans Mono',consolas,'Courier New',monospace\"><span style=\"font-weight: bold\">Model: \"sequential_1\"</span>\n",
              "</pre>\n"
            ]
          },
          "metadata": {}
        },
        {
          "output_type": "display_data",
          "data": {
            "text/plain": [
              "┏━━━━━━━━━━━━━━━━━━━━━━━━━━━━━━━━━┳━━━━━━━━━━━━━━━━━━━━━━━━┳━━━━━━━━━━━━━━━┓\n",
              "┃\u001b[1m \u001b[0m\u001b[1mLayer (type)                   \u001b[0m\u001b[1m \u001b[0m┃\u001b[1m \u001b[0m\u001b[1mOutput Shape          \u001b[0m\u001b[1m \u001b[0m┃\u001b[1m \u001b[0m\u001b[1m      Param #\u001b[0m\u001b[1m \u001b[0m┃\n",
              "┡━━━━━━━━━━━━━━━━━━━━━━━━━━━━━━━━━╇━━━━━━━━━━━━━━━━━━━━━━━━╇━━━━━━━━━━━━━━━┩\n",
              "│ embedding (\u001b[38;5;33mEmbedding\u001b[0m)           │ (\u001b[38;5;45mNone\u001b[0m, \u001b[38;5;34m100\u001b[0m, \u001b[38;5;34m16\u001b[0m)        │         \u001b[38;5;34m3,200\u001b[0m │\n",
              "├─────────────────────────────────┼────────────────────────┼───────────────┤\n",
              "│ simple_rnn_1 (\u001b[38;5;33mSimpleRNN\u001b[0m)        │ (\u001b[38;5;45mNone\u001b[0m, \u001b[38;5;34m8\u001b[0m)              │           \u001b[38;5;34m200\u001b[0m │\n",
              "├─────────────────────────────────┼────────────────────────┼───────────────┤\n",
              "│ dense_1 (\u001b[38;5;33mDense\u001b[0m)                 │ (\u001b[38;5;45mNone\u001b[0m, \u001b[38;5;34m1\u001b[0m)              │             \u001b[38;5;34m9\u001b[0m │\n",
              "└─────────────────────────────────┴────────────────────────┴───────────────┘\n"
            ],
            "text/html": [
              "<pre style=\"white-space:pre;overflow-x:auto;line-height:normal;font-family:Menlo,'DejaVu Sans Mono',consolas,'Courier New',monospace\">┏━━━━━━━━━━━━━━━━━━━━━━━━━━━━━━━━━┳━━━━━━━━━━━━━━━━━━━━━━━━┳━━━━━━━━━━━━━━━┓\n",
              "┃<span style=\"font-weight: bold\"> Layer (type)                    </span>┃<span style=\"font-weight: bold\"> Output Shape           </span>┃<span style=\"font-weight: bold\">       Param # </span>┃\n",
              "┡━━━━━━━━━━━━━━━━━━━━━━━━━━━━━━━━━╇━━━━━━━━━━━━━━━━━━━━━━━━╇━━━━━━━━━━━━━━━┩\n",
              "│ embedding (<span style=\"color: #0087ff; text-decoration-color: #0087ff\">Embedding</span>)           │ (<span style=\"color: #00d7ff; text-decoration-color: #00d7ff\">None</span>, <span style=\"color: #00af00; text-decoration-color: #00af00\">100</span>, <span style=\"color: #00af00; text-decoration-color: #00af00\">16</span>)        │         <span style=\"color: #00af00; text-decoration-color: #00af00\">3,200</span> │\n",
              "├─────────────────────────────────┼────────────────────────┼───────────────┤\n",
              "│ simple_rnn_1 (<span style=\"color: #0087ff; text-decoration-color: #0087ff\">SimpleRNN</span>)        │ (<span style=\"color: #00d7ff; text-decoration-color: #00d7ff\">None</span>, <span style=\"color: #00af00; text-decoration-color: #00af00\">8</span>)              │           <span style=\"color: #00af00; text-decoration-color: #00af00\">200</span> │\n",
              "├─────────────────────────────────┼────────────────────────┼───────────────┤\n",
              "│ dense_1 (<span style=\"color: #0087ff; text-decoration-color: #0087ff\">Dense</span>)                 │ (<span style=\"color: #00d7ff; text-decoration-color: #00d7ff\">None</span>, <span style=\"color: #00af00; text-decoration-color: #00af00\">1</span>)              │             <span style=\"color: #00af00; text-decoration-color: #00af00\">9</span> │\n",
              "└─────────────────────────────────┴────────────────────────┴───────────────┘\n",
              "</pre>\n"
            ]
          },
          "metadata": {}
        },
        {
          "output_type": "display_data",
          "data": {
            "text/plain": [
              "\u001b[1m Total params: \u001b[0m\u001b[38;5;34m3,409\u001b[0m (13.32 KB)\n"
            ],
            "text/html": [
              "<pre style=\"white-space:pre;overflow-x:auto;line-height:normal;font-family:Menlo,'DejaVu Sans Mono',consolas,'Courier New',monospace\"><span style=\"font-weight: bold\"> Total params: </span><span style=\"color: #00af00; text-decoration-color: #00af00\">3,409</span> (13.32 KB)\n",
              "</pre>\n"
            ]
          },
          "metadata": {}
        },
        {
          "output_type": "display_data",
          "data": {
            "text/plain": [
              "\u001b[1m Trainable params: \u001b[0m\u001b[38;5;34m3,409\u001b[0m (13.32 KB)\n"
            ],
            "text/html": [
              "<pre style=\"white-space:pre;overflow-x:auto;line-height:normal;font-family:Menlo,'DejaVu Sans Mono',consolas,'Courier New',monospace\"><span style=\"font-weight: bold\"> Trainable params: </span><span style=\"color: #00af00; text-decoration-color: #00af00\">3,409</span> (13.32 KB)\n",
              "</pre>\n"
            ]
          },
          "metadata": {}
        },
        {
          "output_type": "display_data",
          "data": {
            "text/plain": [
              "\u001b[1m Non-trainable params: \u001b[0m\u001b[38;5;34m0\u001b[0m (0.00 B)\n"
            ],
            "text/html": [
              "<pre style=\"white-space:pre;overflow-x:auto;line-height:normal;font-family:Menlo,'DejaVu Sans Mono',consolas,'Courier New',monospace\"><span style=\"font-weight: bold\"> Non-trainable params: </span><span style=\"color: #00af00; text-decoration-color: #00af00\">0</span> (0.00 B)\n",
              "</pre>\n"
            ]
          },
          "metadata": {}
        }
      ]
    },
    {
      "cell_type": "code",
      "source": [
        "rmsprop = keras.optimizers.RMSprop(learning_rate=1e-4)\n",
        "model2.compile(optimizer=rmsprop, loss='binary_crossentropy',\n",
        "               metrics=['accuracy'])\n",
        "checkpoint_cb = keras.callbacks.ModelCheckpoint('best-embedding-model.keras',\n",
        "                                                save_best_only=True)\n",
        "early_stopping_cb = keras.callbacks.EarlyStopping(patience=3,\n",
        "                                                  restore_best_weights=True)\n",
        "history = model2.fit(train_seq, train_target, epochs=100, batch_size=64,\n",
        "                     validation_data=(val_seq, val_target),\n",
        "                     callbacks=[checkpoint_cb, early_stopping_cb])"
      ],
      "metadata": {
        "id": "gZTSci4W5t4L",
        "colab": {
          "base_uri": "https://localhost:8080/"
        },
        "outputId": "9e49a844-1c26-41c0-f650-56832249c6e4"
      },
      "execution_count": 29,
      "outputs": [
        {
          "output_type": "stream",
          "name": "stdout",
          "text": [
            "Epoch 1/100\n",
            "\u001b[1m313/313\u001b[0m \u001b[32m━━━━━━━━━━━━━━━━━━━━\u001b[0m\u001b[37m\u001b[0m \u001b[1m12s\u001b[0m 30ms/step - accuracy: 0.5268 - loss: 0.6912 - val_accuracy: 0.6002 - val_loss: 0.6694\n",
            "Epoch 2/100\n",
            "\u001b[1m313/313\u001b[0m \u001b[32m━━━━━━━━━━━━━━━━━━━━\u001b[0m\u001b[37m\u001b[0m \u001b[1m10s\u001b[0m 29ms/step - accuracy: 0.6236 - loss: 0.6593 - val_accuracy: 0.6562 - val_loss: 0.6413\n",
            "Epoch 3/100\n",
            "\u001b[1m313/313\u001b[0m \u001b[32m━━━━━━━━━━━━━━━━━━━━\u001b[0m\u001b[37m\u001b[0m \u001b[1m9s\u001b[0m 24ms/step - accuracy: 0.6671 - loss: 0.6358 - val_accuracy: 0.6846 - val_loss: 0.6210\n",
            "Epoch 4/100\n",
            "\u001b[1m313/313\u001b[0m \u001b[32m━━━━━━━━━━━━━━━━━━━━\u001b[0m\u001b[37m\u001b[0m \u001b[1m10s\u001b[0m 25ms/step - accuracy: 0.6931 - loss: 0.6143 - val_accuracy: 0.6958 - val_loss: 0.6040\n",
            "Epoch 5/100\n",
            "\u001b[1m313/313\u001b[0m \u001b[32m━━━━━━━━━━━━━━━━━━━━\u001b[0m\u001b[37m\u001b[0m \u001b[1m11s\u001b[0m 28ms/step - accuracy: 0.6950 - loss: 0.6025 - val_accuracy: 0.7022 - val_loss: 0.5900\n",
            "Epoch 6/100\n",
            "\u001b[1m313/313\u001b[0m \u001b[32m━━━━━━━━━━━━━━━━━━━━\u001b[0m\u001b[37m\u001b[0m \u001b[1m11s\u001b[0m 29ms/step - accuracy: 0.7137 - loss: 0.5847 - val_accuracy: 0.7076 - val_loss: 0.5841\n",
            "Epoch 7/100\n",
            "\u001b[1m313/313\u001b[0m \u001b[32m━━━━━━━━━━━━━━━━━━━━\u001b[0m\u001b[37m\u001b[0m \u001b[1m10s\u001b[0m 28ms/step - accuracy: 0.7040 - loss: 0.5837 - val_accuracy: 0.6990 - val_loss: 0.5891\n",
            "Epoch 8/100\n",
            "\u001b[1m313/313\u001b[0m \u001b[32m━━━━━━━━━━━━━━━━━━━━\u001b[0m\u001b[37m\u001b[0m \u001b[1m11s\u001b[0m 31ms/step - accuracy: 0.7153 - loss: 0.5723 - val_accuracy: 0.7042 - val_loss: 0.5832\n",
            "Epoch 9/100\n",
            "\u001b[1m313/313\u001b[0m \u001b[32m━━━━━━━━━━━━━━━━━━━━\u001b[0m\u001b[37m\u001b[0m \u001b[1m8s\u001b[0m 25ms/step - accuracy: 0.7106 - loss: 0.5721 - val_accuracy: 0.7184 - val_loss: 0.5649\n",
            "Epoch 10/100\n",
            "\u001b[1m313/313\u001b[0m \u001b[32m━━━━━━━━━━━━━━━━━━━━\u001b[0m\u001b[37m\u001b[0m \u001b[1m12s\u001b[0m 40ms/step - accuracy: 0.7158 - loss: 0.5665 - val_accuracy: 0.7178 - val_loss: 0.5614\n",
            "Epoch 11/100\n",
            "\u001b[1m313/313\u001b[0m \u001b[32m━━━━━━━━━━━━━━━━━━━━\u001b[0m\u001b[37m\u001b[0m \u001b[1m11s\u001b[0m 35ms/step - accuracy: 0.7258 - loss: 0.5579 - val_accuracy: 0.7168 - val_loss: 0.5645\n",
            "Epoch 12/100\n",
            "\u001b[1m313/313\u001b[0m \u001b[32m━━━━━━━━━━━━━━━━━━━━\u001b[0m\u001b[37m\u001b[0m \u001b[1m19s\u001b[0m 31ms/step - accuracy: 0.7272 - loss: 0.5560 - val_accuracy: 0.6988 - val_loss: 0.5816\n",
            "Epoch 13/100\n",
            "\u001b[1m313/313\u001b[0m \u001b[32m━━━━━━━━━━━━━━━━━━━━\u001b[0m\u001b[37m\u001b[0m \u001b[1m12s\u001b[0m 36ms/step - accuracy: 0.7283 - loss: 0.5544 - val_accuracy: 0.6958 - val_loss: 0.5780\n"
          ]
        }
      ]
    },
    {
      "cell_type": "code",
      "source": [
        "plt.plot(history.history['loss'])\n",
        "plt.plot(history.history['val_loss'])\n",
        "plt.xlabel('epoch')\n",
        "plt.ylabel('loss')\n",
        "plt.legend(['train', 'val'])\n",
        "plt.show()"
      ],
      "metadata": {
        "id": "OMYq0lPN6V3i",
        "colab": {
          "base_uri": "https://localhost:8080/",
          "height": 449
        },
        "outputId": "c6aac018-c17b-43d2-fcf1-92d8f73280d2"
      },
      "execution_count": 30,
      "outputs": [
        {
          "output_type": "display_data",
          "data": {
            "text/plain": [
              "<Figure size 640x480 with 1 Axes>"
            ],
            "image/png": "[encoded data removed]"
          },
          "metadata": {}
        }
      ]
    },
    {
      "cell_type": "markdown",
      "source": [
        "## 09-3 LSTM과 GRU 셀"
      ],
      "metadata": {
        "id": "wdO5qwiw6nJX"
      }
    },
    {
      "cell_type": "markdown",
      "source": [
        "### LSTM 구조"
      ],
      "metadata": {
        "id": "aCvU11tjC7Jc"
      }
    },
    {
      "cell_type": "markdown",
      "source": [
        "“Long Short-Term Memory”의 줄임말\n",
        "\n",
        "**오래된 정보도 잘 기억할 수 있는 RNN(순환 신경망)**\n",
        "\n",
        "---\n",
        "\n",
        "**왜 필요할까?**\n",
        "\n",
        "일반적인 RNN은 시간이 지나면 이전 정보가 잘 기억되지 않는 문제가 있었어요.   \n",
        "예를 들어, 긴 문장을 처리하다 보면 문장의 앞부분을 잘 잊어버려요.\n",
        "\n",
        "---\n",
        "\n",
        "**LSTM 구조 쉽게 이해하기**\n",
        "\n",
        "LSTM은 ‘**정보를 얼마나 기억하고, 얼마나 버릴지 결정하는 장치(게이트)**’를 갖고 있음\n",
        "\n",
        "---\n",
        "\n",
        "**핵심은 \"3개의 게이트 + 셀 상태\"**\n",
        "\n",
        "| 구성 요소              | 역할                                   | 쉽게 말하면...           |\n",
        "|-----------------------|----------------------------------------|---------------------------|\n",
        "| 셀 상태 | 정보가 흐르는 메인 통로                 | \"기억 저장소\"            |\n",
        "| Forget 게이트 | 과거 정보를 얼마나 잊을지 결정          | \"이건 버려도 돼!\"        |\n",
        "| 입력 게이트 | 새로운 정보를 얼마나 기억할지 결정       | \"이건 새로 저장할래!\"    |\n",
        "| 출력 게이트 | 다음 단계로 어떤 정보를 내보낼지 결정    | \"이것만 보여줄게!\"       |\n",
        "\n",
        "---\n",
        "\n",
        "**LSTM의 정보 흐름 과정**\n",
        "\n",
        "1. **이전의 기억($c_{t-1}$)과 현재 정보($x_t$)를 받음**\n",
        "2. **Forget 게이트**: “이건 중요하지 않으니까 잊자!”\n",
        "3. **입력 게이트**: “이건 새로 배운 정보니까 저장하자!”\n",
        "4. **셀 상태 업데이트**: “예전 기억 중 중요한 것 + 새로 배운 것만 남겨두자!”\n",
        "5. **출력 게이트**: “이번엔 이 정보만 다음으로 보내자!”\n",
        "\n",
        "=> 이 과정을 통해 **오래된 중요한 정보는 유지하고, 불필요한 정보는 잊을 수 있음**\n"
      ],
      "metadata": {
        "id": "vqw4HfTXDWLm"
      }
    },
    {
      "cell_type": "markdown",
      "source": [
        "### LSTM 신경망 훈련하기"
      ],
      "metadata": {
        "id": "E6nfnClMC_Sy"
      }
    },
    {
      "cell_type": "code",
      "source": [
        "from tensorflow.keras.datasets import imdb\n",
        "from sklearn.model_selection import train_test_split\n",
        "(train_input, train_target), (test_input, test_target) = imdb.load_data(\n",
        "    num_words=500)\n",
        "train_input, val_input, train_target, val_target = train_test_split(\n",
        "    train_input, train_target, test_size=0.2, random_state=42)"
      ],
      "metadata": {
        "id": "-NrcKLRH6quK"
      },
      "execution_count": 31,
      "outputs": []
    },
    {
      "cell_type": "code",
      "source": [
        "from tensorflow.keras.preprocessing.sequence import pad_sequences\n",
        "train_seq = pad_sequences(train_input, maxlen=100)\n",
        "val_seq = pad_sequences(val_input, maxlen=100)"
      ],
      "metadata": {
        "id": "yz1Vp0I97GM-"
      },
      "execution_count": 32,
      "outputs": []
    },
    {
      "cell_type": "code",
      "source": [
        "from tensorflow import keras\n",
        "model = keras.Sequential()\n",
        "model.add(keras.layers.Embedding(500, 16, input_shape=(100,)))\n",
        "model.add(keras.layers.LSTM(8))\n",
        "model.add(keras.layers.Dense(1, activation='sigmoid'))"
      ],
      "metadata": {
        "id": "7R09N0NW7GRA"
      },
      "execution_count": 33,
      "outputs": []
    },
    {
      "cell_type": "code",
      "source": [
        "model.summary()"
      ],
      "metadata": {
        "id": "oKT1J0747GWQ",
        "colab": {
          "base_uri": "https://localhost:8080/",
          "height": 232
        },
        "outputId": "3cc36b89-0bd2-46f3-ca70-220c76ee48e9"
      },
      "execution_count": 34,
      "outputs": [
        {
          "output_type": "display_data",
          "data": {
            "text/plain": [
              "\u001b[1mModel: \"sequential_2\"\u001b[0m\n"
            ],
            "text/html": [
              "<pre style=\"white-space:pre;overflow-x:auto;line-height:normal;font-family:Menlo,'DejaVu Sans Mono',consolas,'Courier New',monospace\"><span style=\"font-weight: bold\">Model: \"sequential_2\"</span>\n",
              "</pre>\n"
            ]
          },
          "metadata": {}
        },
        {
          "output_type": "display_data",
          "data": {
            "text/plain": [
              "┏━━━━━━━━━━━━━━━━━━━━━━━━━━━━━━━━━┳━━━━━━━━━━━━━━━━━━━━━━━━┳━━━━━━━━━━━━━━━┓\n",
              "┃\u001b[1m \u001b[0m\u001b[1mLayer (type)                   \u001b[0m\u001b[1m \u001b[0m┃\u001b[1m \u001b[0m\u001b[1mOutput Shape          \u001b[0m\u001b[1m \u001b[0m┃\u001b[1m \u001b[0m\u001b[1m      Param #\u001b[0m\u001b[1m \u001b[0m┃\n",
              "┡━━━━━━━━━━━━━━━━━━━━━━━━━━━━━━━━━╇━━━━━━━━━━━━━━━━━━━━━━━━╇━━━━━━━━━━━━━━━┩\n",
              "│ embedding_1 (\u001b[38;5;33mEmbedding\u001b[0m)         │ (\u001b[38;5;45mNone\u001b[0m, \u001b[38;5;34m100\u001b[0m, \u001b[38;5;34m16\u001b[0m)        │         \u001b[38;5;34m8,000\u001b[0m │\n",
              "├─────────────────────────────────┼────────────────────────┼───────────────┤\n",
              "│ lstm (\u001b[38;5;33mLSTM\u001b[0m)                     │ (\u001b[38;5;45mNone\u001b[0m, \u001b[38;5;34m8\u001b[0m)              │           \u001b[38;5;34m800\u001b[0m │\n",
              "├─────────────────────────────────┼────────────────────────┼───────────────┤\n",
              "│ dense_2 (\u001b[38;5;33mDense\u001b[0m)                 │ (\u001b[38;5;45mNone\u001b[0m, \u001b[38;5;34m1\u001b[0m)              │             \u001b[38;5;34m9\u001b[0m │\n",
              "└─────────────────────────────────┴────────────────────────┴───────────────┘\n"
            ],
            "text/html": [
              "<pre style=\"white-space:pre;overflow-x:auto;line-height:normal;font-family:Menlo,'DejaVu Sans Mono',consolas,'Courier New',monospace\">┏━━━━━━━━━━━━━━━━━━━━━━━━━━━━━━━━━┳━━━━━━━━━━━━━━━━━━━━━━━━┳━━━━━━━━━━━━━━━┓\n",
              "┃<span style=\"font-weight: bold\"> Layer (type)                    </span>┃<span style=\"font-weight: bold\"> Output Shape           </span>┃<span style=\"font-weight: bold\">       Param # </span>┃\n",
              "┡━━━━━━━━━━━━━━━━━━━━━━━━━━━━━━━━━╇━━━━━━━━━━━━━━━━━━━━━━━━╇━━━━━━━━━━━━━━━┩\n",
              "│ embedding_1 (<span style=\"color: #0087ff; text-decoration-color: #0087ff\">Embedding</span>)         │ (<span style=\"color: #00d7ff; text-decoration-color: #00d7ff\">None</span>, <span style=\"color: #00af00; text-decoration-color: #00af00\">100</span>, <span style=\"color: #00af00; text-decoration-color: #00af00\">16</span>)        │         <span style=\"color: #00af00; text-decoration-color: #00af00\">8,000</span> │\n",
              "├─────────────────────────────────┼────────────────────────┼───────────────┤\n",
              "│ lstm (<span style=\"color: #0087ff; text-decoration-color: #0087ff\">LSTM</span>)                     │ (<span style=\"color: #00d7ff; text-decoration-color: #00d7ff\">None</span>, <span style=\"color: #00af00; text-decoration-color: #00af00\">8</span>)              │           <span style=\"color: #00af00; text-decoration-color: #00af00\">800</span> │\n",
              "├─────────────────────────────────┼────────────────────────┼───────────────┤\n",
              "│ dense_2 (<span style=\"color: #0087ff; text-decoration-color: #0087ff\">Dense</span>)                 │ (<span style=\"color: #00d7ff; text-decoration-color: #00d7ff\">None</span>, <span style=\"color: #00af00; text-decoration-color: #00af00\">1</span>)              │             <span style=\"color: #00af00; text-decoration-color: #00af00\">9</span> │\n",
              "└─────────────────────────────────┴────────────────────────┴───────────────┘\n",
              "</pre>\n"
            ]
          },
          "metadata": {}
        },
        {
          "output_type": "display_data",
          "data": {
            "text/plain": [
              "\u001b[1m Total params: \u001b[0m\u001b[38;5;34m8,809\u001b[0m (34.41 KB)\n"
            ],
            "text/html": [
              "<pre style=\"white-space:pre;overflow-x:auto;line-height:normal;font-family:Menlo,'DejaVu Sans Mono',consolas,'Courier New',monospace\"><span style=\"font-weight: bold\"> Total params: </span><span style=\"color: #00af00; text-decoration-color: #00af00\">8,809</span> (34.41 KB)\n",
              "</pre>\n"
            ]
          },
          "metadata": {}
        },
        {
          "output_type": "display_data",
          "data": {
            "text/plain": [
              "\u001b[1m Trainable params: \u001b[0m\u001b[38;5;34m8,809\u001b[0m (34.41 KB)\n"
            ],
            "text/html": [
              "<pre style=\"white-space:pre;overflow-x:auto;line-height:normal;font-family:Menlo,'DejaVu Sans Mono',consolas,'Courier New',monospace\"><span style=\"font-weight: bold\"> Trainable params: </span><span style=\"color: #00af00; text-decoration-color: #00af00\">8,809</span> (34.41 KB)\n",
              "</pre>\n"
            ]
          },
          "metadata": {}
        },
        {
          "output_type": "display_data",
          "data": {
            "text/plain": [
              "\u001b[1m Non-trainable params: \u001b[0m\u001b[38;5;34m0\u001b[0m (0.00 B)\n"
            ],
            "text/html": [
              "<pre style=\"white-space:pre;overflow-x:auto;line-height:normal;font-family:Menlo,'DejaVu Sans Mono',consolas,'Courier New',monospace\"><span style=\"font-weight: bold\"> Non-trainable params: </span><span style=\"color: #00af00; text-decoration-color: #00af00\">0</span> (0.00 B)\n",
              "</pre>\n"
            ]
          },
          "metadata": {}
        }
      ]
    },
    {
      "cell_type": "code",
      "source": [
        "rmsprop = keras.optimizers.RMSprop(learning_rate=1e-4)\n",
        "model.compile(optimizer=rmsprop, loss='binary_crossentropy',\n",
        "              metrics=['accuracy'])\n",
        "checkpoint_cb = keras.callbacks.ModelCheckpoint('best-lstm-model.keras',\n",
        "                                                save_best_only=True)\n",
        "early_stopping_cb = keras.callbacks.EarlyStopping(patience=3,\n",
        "                                                  restore_best_weights=True)\n",
        "history = model.fit(train_seq, train_target, epochs=100, batch_size=64,\n",
        "                    validation_data=(val_seq, val_target),\n",
        "                    callbacks=[checkpoint_cb, early_stopping_cb])"
      ],
      "metadata": {
        "id": "y_QMSVy97pl1",
        "colab": {
          "base_uri": "https://localhost:8080/"
        },
        "outputId": "af8b9894-32c7-4fe4-fd54-5d90dbef0364"
      },
      "execution_count": 35,
      "outputs": [
        {
          "output_type": "stream",
          "name": "stdout",
          "text": [
            "Epoch 1/100\n",
            "\u001b[1m313/313\u001b[0m \u001b[32m━━━━━━━━━━━━━━━━━━━━\u001b[0m\u001b[37m\u001b[0m \u001b[1m17s\u001b[0m 48ms/step - accuracy: 0.5218 - loss: 0.6927 - val_accuracy: 0.5740 - val_loss: 0.6911\n",
            "Epoch 2/100\n",
            "\u001b[1m313/313\u001b[0m \u001b[32m━━━━━━━━━━━━━━━━━━━━\u001b[0m\u001b[37m\u001b[0m \u001b[1m20s\u001b[0m 45ms/step - accuracy: 0.5952 - loss: 0.6900 - val_accuracy: 0.6132 - val_loss: 0.6876\n",
            "Epoch 3/100\n",
            "\u001b[1m313/313\u001b[0m \u001b[32m━━━━━━━━━━━━━━━━━━━━\u001b[0m\u001b[37m\u001b[0m \u001b[1m22s\u001b[0m 51ms/step - accuracy: 0.6333 - loss: 0.6854 - val_accuracy: 0.6490 - val_loss: 0.6788\n",
            "Epoch 4/100\n",
            "\u001b[1m313/313\u001b[0m \u001b[32m━━━━━━━━━━━━━━━━━━━━\u001b[0m\u001b[37m\u001b[0m \u001b[1m20s\u001b[0m 49ms/step - accuracy: 0.6564 - loss: 0.6738 - val_accuracy: 0.6992 - val_loss: 0.6456\n",
            "Epoch 5/100\n",
            "\u001b[1m313/313\u001b[0m \u001b[32m━━━━━━━━━━━━━━━━━━━━\u001b[0m\u001b[37m\u001b[0m \u001b[1m21s\u001b[0m 50ms/step - accuracy: 0.7090 - loss: 0.6225 - val_accuracy: 0.7120 - val_loss: 0.5771\n",
            "Epoch 6/100\n",
            "\u001b[1m313/313\u001b[0m \u001b[32m━━━━━━━━━━━━━━━━━━━━\u001b[0m\u001b[37m\u001b[0m \u001b[1m21s\u001b[0m 51ms/step - accuracy: 0.7302 - loss: 0.5678 - val_accuracy: 0.7358 - val_loss: 0.5524\n",
            "Epoch 7/100\n",
            "\u001b[1m313/313\u001b[0m \u001b[32m━━━━━━━━━━━━━━━━━━━━\u001b[0m\u001b[37m\u001b[0m \u001b[1m19s\u001b[0m 47ms/step - accuracy: 0.7503 - loss: 0.5441 - val_accuracy: 0.7526 - val_loss: 0.5322\n",
            "Epoch 8/100\n",
            "\u001b[1m313/313\u001b[0m \u001b[32m━━━━━━━━━━━━━━━━━━━━\u001b[0m\u001b[37m\u001b[0m \u001b[1m20s\u001b[0m 45ms/step - accuracy: 0.7674 - loss: 0.5183 - val_accuracy: 0.7688 - val_loss: 0.5123\n",
            "Epoch 9/100\n",
            "\u001b[1m313/313\u001b[0m \u001b[32m━━━━━━━━━━━━━━━━━━━━\u001b[0m\u001b[37m\u001b[0m \u001b[1m19s\u001b[0m 60ms/step - accuracy: 0.7723 - loss: 0.5064 - val_accuracy: 0.7754 - val_loss: 0.4981\n",
            "Epoch 10/100\n",
            "\u001b[1m313/313\u001b[0m \u001b[32m━━━━━━━━━━━━━━━━━━━━\u001b[0m\u001b[37m\u001b[0m \u001b[1m14s\u001b[0m 44ms/step - accuracy: 0.7853 - loss: 0.4874 - val_accuracy: 0.7716 - val_loss: 0.4924\n",
            "Epoch 11/100\n",
            "\u001b[1m313/313\u001b[0m \u001b[32m━━━━━━━━━━━━━━━━━━━━\u001b[0m\u001b[37m\u001b[0m \u001b[1m15s\u001b[0m 46ms/step - accuracy: 0.7970 - loss: 0.4691 - val_accuracy: 0.7800 - val_loss: 0.4797\n",
            "Epoch 12/100\n",
            "\u001b[1m313/313\u001b[0m \u001b[32m━━━━━━━━━━━━━━━━━━━━\u001b[0m\u001b[37m\u001b[0m \u001b[1m20s\u001b[0m 45ms/step - accuracy: 0.7952 - loss: 0.4666 - val_accuracy: 0.7850 - val_loss: 0.4698\n",
            "Epoch 13/100\n",
            "\u001b[1m313/313\u001b[0m \u001b[32m━━━━━━━━━━━━━━━━━━━━\u001b[0m\u001b[37m\u001b[0m \u001b[1m20s\u001b[0m 45ms/step - accuracy: 0.7955 - loss: 0.4586 - val_accuracy: 0.7894 - val_loss: 0.4657\n",
            "Epoch 14/100\n",
            "\u001b[1m313/313\u001b[0m \u001b[32m━━━━━━━━━━━━━━━━━━━━\u001b[0m\u001b[37m\u001b[0m \u001b[1m20s\u001b[0m 45ms/step - accuracy: 0.8000 - loss: 0.4504 - val_accuracy: 0.7888 - val_loss: 0.4604\n",
            "Epoch 15/100\n",
            "\u001b[1m313/313\u001b[0m \u001b[32m━━━━━━━━━━━━━━━━━━━━\u001b[0m\u001b[37m\u001b[0m \u001b[1m22s\u001b[0m 48ms/step - accuracy: 0.8039 - loss: 0.4450 - val_accuracy: 0.7718 - val_loss: 0.4784\n",
            "Epoch 16/100\n",
            "\u001b[1m313/313\u001b[0m \u001b[32m━━━━━━━━━━━━━━━━━━━━\u001b[0m\u001b[37m\u001b[0m \u001b[1m19s\u001b[0m 45ms/step - accuracy: 0.8052 - loss: 0.4373 - val_accuracy: 0.7926 - val_loss: 0.4536\n",
            "Epoch 17/100\n",
            "\u001b[1m313/313\u001b[0m \u001b[32m━━━━━━━━━━━━━━━━━━━━\u001b[0m\u001b[37m\u001b[0m \u001b[1m20s\u001b[0m 44ms/step - accuracy: 0.8031 - loss: 0.4396 - val_accuracy: 0.7956 - val_loss: 0.4506\n",
            "Epoch 18/100\n",
            "\u001b[1m313/313\u001b[0m \u001b[32m━━━━━━━━━━━━━━━━━━━━\u001b[0m\u001b[37m\u001b[0m \u001b[1m20s\u001b[0m 44ms/step - accuracy: 0.8111 - loss: 0.4316 - val_accuracy: 0.7960 - val_loss: 0.4475\n",
            "Epoch 19/100\n",
            "\u001b[1m313/313\u001b[0m \u001b[32m━━━━━━━━━━━━━━━━━━━━\u001b[0m\u001b[37m\u001b[0m \u001b[1m14s\u001b[0m 45ms/step - accuracy: 0.8135 - loss: 0.4256 - val_accuracy: 0.7950 - val_loss: 0.4469\n",
            "Epoch 20/100\n",
            "\u001b[1m313/313\u001b[0m \u001b[32m━━━━━━━━━━━━━━━━━━━━\u001b[0m\u001b[37m\u001b[0m \u001b[1m14s\u001b[0m 45ms/step - accuracy: 0.8112 - loss: 0.4275 - val_accuracy: 0.7940 - val_loss: 0.4454\n",
            "Epoch 21/100\n",
            "\u001b[1m313/313\u001b[0m \u001b[32m━━━━━━━━━━━━━━━━━━━━\u001b[0m\u001b[37m\u001b[0m \u001b[1m20s\u001b[0m 44ms/step - accuracy: 0.8128 - loss: 0.4199 - val_accuracy: 0.7964 - val_loss: 0.4453\n",
            "Epoch 22/100\n",
            "\u001b[1m313/313\u001b[0m \u001b[32m━━━━━━━━━━━━━━━━━━━━\u001b[0m\u001b[37m\u001b[0m \u001b[1m14s\u001b[0m 44ms/step - accuracy: 0.8138 - loss: 0.4182 - val_accuracy: 0.7976 - val_loss: 0.4432\n",
            "Epoch 23/100\n",
            "\u001b[1m313/313\u001b[0m \u001b[32m━━━━━━━━━━━━━━━━━━━━\u001b[0m\u001b[37m\u001b[0m \u001b[1m21s\u001b[0m 44ms/step - accuracy: 0.8151 - loss: 0.4154 - val_accuracy: 0.7934 - val_loss: 0.4435\n",
            "Epoch 24/100\n",
            "\u001b[1m313/313\u001b[0m \u001b[32m━━━━━━━━━━━━━━━━━━━━\u001b[0m\u001b[37m\u001b[0m \u001b[1m14s\u001b[0m 44ms/step - accuracy: 0.8141 - loss: 0.4177 - val_accuracy: 0.7966 - val_loss: 0.4387\n",
            "Epoch 25/100\n",
            "\u001b[1m313/313\u001b[0m \u001b[32m━━━━━━━━━━━━━━━━━━━━\u001b[0m\u001b[37m\u001b[0m \u001b[1m20s\u001b[0m 44ms/step - accuracy: 0.8166 - loss: 0.4152 - val_accuracy: 0.8008 - val_loss: 0.4371\n",
            "Epoch 26/100\n",
            "\u001b[1m313/313\u001b[0m \u001b[32m━━━━━━━━━━━━━━━━━━━━\u001b[0m\u001b[37m\u001b[0m \u001b[1m20s\u001b[0m 44ms/step - accuracy: 0.8173 - loss: 0.4099 - val_accuracy: 0.7974 - val_loss: 0.4381\n",
            "Epoch 27/100\n",
            "\u001b[1m313/313\u001b[0m \u001b[32m━━━━━━━━━━━━━━━━━━━━\u001b[0m\u001b[37m\u001b[0m \u001b[1m14s\u001b[0m 44ms/step - accuracy: 0.8201 - loss: 0.4091 - val_accuracy: 0.7988 - val_loss: 0.4374\n",
            "Epoch 28/100\n",
            "\u001b[1m313/313\u001b[0m \u001b[32m━━━━━━━━━━━━━━━━━━━━\u001b[0m\u001b[37m\u001b[0m \u001b[1m17s\u001b[0m 53ms/step - accuracy: 0.8230 - loss: 0.4046 - val_accuracy: 0.7978 - val_loss: 0.4335\n",
            "Epoch 29/100\n",
            "\u001b[1m313/313\u001b[0m \u001b[32m━━━━━━━━━━━━━━━━━━━━\u001b[0m\u001b[37m\u001b[0m \u001b[1m20s\u001b[0m 53ms/step - accuracy: 0.8209 - loss: 0.4069 - val_accuracy: 0.8028 - val_loss: 0.4328\n",
            "Epoch 30/100\n",
            "\u001b[1m313/313\u001b[0m \u001b[32m━━━━━━━━━━━━━━━━━━━━\u001b[0m\u001b[37m\u001b[0m \u001b[1m19s\u001b[0m 49ms/step - accuracy: 0.8166 - loss: 0.4051 - val_accuracy: 0.8006 - val_loss: 0.4357\n",
            "Epoch 31/100\n",
            "\u001b[1m313/313\u001b[0m \u001b[32m━━━━━━━━━━━━━━━━━━━━\u001b[0m\u001b[37m\u001b[0m \u001b[1m20s\u001b[0m 47ms/step - accuracy: 0.8187 - loss: 0.4057 - val_accuracy: 0.8032 - val_loss: 0.4334\n",
            "Epoch 32/100\n",
            "\u001b[1m313/313\u001b[0m \u001b[32m━━━━━━━━━━━━━━━━━━━━\u001b[0m\u001b[37m\u001b[0m \u001b[1m20s\u001b[0m 47ms/step - accuracy: 0.8194 - loss: 0.4054 - val_accuracy: 0.8000 - val_loss: 0.4304\n",
            "Epoch 33/100\n",
            "\u001b[1m313/313\u001b[0m \u001b[32m━━━━━━━━━━━━━━━━━━━━\u001b[0m\u001b[37m\u001b[0m \u001b[1m14s\u001b[0m 44ms/step - accuracy: 0.8214 - loss: 0.4010 - val_accuracy: 0.7974 - val_loss: 0.4339\n",
            "Epoch 34/100\n",
            "\u001b[1m313/313\u001b[0m \u001b[32m━━━━━━━━━━━━━━━━━━━━\u001b[0m\u001b[37m\u001b[0m \u001b[1m21s\u001b[0m 45ms/step - accuracy: 0.8219 - loss: 0.3994 - val_accuracy: 0.7968 - val_loss: 0.4393\n",
            "Epoch 35/100\n",
            "\u001b[1m313/313\u001b[0m \u001b[32m━━━━━━━━━━━━━━━━━━━━\u001b[0m\u001b[37m\u001b[0m \u001b[1m14s\u001b[0m 46ms/step - accuracy: 0.8205 - loss: 0.4002 - val_accuracy: 0.8036 - val_loss: 0.4291\n",
            "Epoch 36/100\n",
            "\u001b[1m313/313\u001b[0m \u001b[32m━━━━━━━━━━━━━━━━━━━━\u001b[0m\u001b[37m\u001b[0m \u001b[1m20s\u001b[0m 44ms/step - accuracy: 0.8176 - loss: 0.3999 - val_accuracy: 0.8030 - val_loss: 0.4277\n",
            "Epoch 37/100\n",
            "\u001b[1m313/313\u001b[0m \u001b[32m━━━━━━━━━━━━━━━━━━━━\u001b[0m\u001b[37m\u001b[0m \u001b[1m16s\u001b[0m 51ms/step - accuracy: 0.8232 - loss: 0.3975 - val_accuracy: 0.8042 - val_loss: 0.4293\n",
            "Epoch 38/100\n",
            "\u001b[1m313/313\u001b[0m \u001b[32m━━━━━━━━━━━━━━━━━━━━\u001b[0m\u001b[37m\u001b[0m \u001b[1m20s\u001b[0m 49ms/step - accuracy: 0.8228 - loss: 0.4011 - val_accuracy: 0.7926 - val_loss: 0.4377\n",
            "Epoch 39/100\n",
            "\u001b[1m313/313\u001b[0m \u001b[32m━━━━━━━━━━━━━━━━━━━━\u001b[0m\u001b[37m\u001b[0m \u001b[1m20s\u001b[0m 48ms/step - accuracy: 0.8193 - loss: 0.3988 - val_accuracy: 0.8050 - val_loss: 0.4270\n",
            "Epoch 40/100\n",
            "\u001b[1m313/313\u001b[0m \u001b[32m━━━━━━━━━━━━━━━━━━━━\u001b[0m\u001b[37m\u001b[0m \u001b[1m21s\u001b[0m 49ms/step - accuracy: 0.8253 - loss: 0.3901 - val_accuracy: 0.8022 - val_loss: 0.4302\n",
            "Epoch 41/100\n",
            "\u001b[1m313/313\u001b[0m \u001b[32m━━━━━━━━━━━━━━━━━━━━\u001b[0m\u001b[37m\u001b[0m \u001b[1m20s\u001b[0m 47ms/step - accuracy: 0.8170 - loss: 0.4024 - val_accuracy: 0.8046 - val_loss: 0.4272\n",
            "Epoch 42/100\n",
            "\u001b[1m313/313\u001b[0m \u001b[32m━━━━━━━━━━━━━━━━━━━━\u001b[0m\u001b[37m\u001b[0m \u001b[1m16s\u001b[0m 50ms/step - accuracy: 0.8249 - loss: 0.3862 - val_accuracy: 0.8048 - val_loss: 0.4261\n",
            "Epoch 43/100\n",
            "\u001b[1m313/313\u001b[0m \u001b[32m━━━━━━━━━━━━━━━━━━━━\u001b[0m\u001b[37m\u001b[0m \u001b[1m20s\u001b[0m 49ms/step - accuracy: 0.8245 - loss: 0.3899 - val_accuracy: 0.7980 - val_loss: 0.4340\n",
            "Epoch 44/100\n",
            "\u001b[1m313/313\u001b[0m \u001b[32m━━━━━━━━━━━━━━━━━━━━\u001b[0m\u001b[37m\u001b[0m \u001b[1m21s\u001b[0m 52ms/step - accuracy: 0.8275 - loss: 0.3836 - val_accuracy: 0.8042 - val_loss: 0.4289\n",
            "Epoch 45/100\n",
            "\u001b[1m313/313\u001b[0m \u001b[32m━━━━━━━━━━━━━━━━━━━━\u001b[0m\u001b[37m\u001b[0m \u001b[1m18s\u001b[0m 45ms/step - accuracy: 0.8235 - loss: 0.3896 - val_accuracy: 0.8024 - val_loss: 0.4257\n",
            "Epoch 46/100\n",
            "\u001b[1m313/313\u001b[0m \u001b[32m━━━━━━━━━━━━━━━━━━━━\u001b[0m\u001b[37m\u001b[0m \u001b[1m21s\u001b[0m 46ms/step - accuracy: 0.8238 - loss: 0.3930 - val_accuracy: 0.8058 - val_loss: 0.4279\n",
            "Epoch 47/100\n",
            "\u001b[1m313/313\u001b[0m \u001b[32m━━━━━━━━━━━━━━━━━━━━\u001b[0m\u001b[37m\u001b[0m \u001b[1m20s\u001b[0m 44ms/step - accuracy: 0.8292 - loss: 0.3827 - val_accuracy: 0.8020 - val_loss: 0.4255\n",
            "Epoch 48/100\n",
            "\u001b[1m313/313\u001b[0m \u001b[32m━━━━━━━━━━━━━━━━━━━━\u001b[0m\u001b[37m\u001b[0m \u001b[1m20s\u001b[0m 44ms/step - accuracy: 0.8246 - loss: 0.3886 - val_accuracy: 0.8038 - val_loss: 0.4278\n",
            "Epoch 49/100\n",
            "\u001b[1m313/313\u001b[0m \u001b[32m━━━━━━━━━━━━━━━━━━━━\u001b[0m\u001b[37m\u001b[0m \u001b[1m14s\u001b[0m 46ms/step - accuracy: 0.8235 - loss: 0.3879 - val_accuracy: 0.8038 - val_loss: 0.4251\n",
            "Epoch 50/100\n",
            "\u001b[1m313/313\u001b[0m \u001b[32m━━━━━━━━━━━━━━━━━━━━\u001b[0m\u001b[37m\u001b[0m \u001b[1m20s\u001b[0m 46ms/step - accuracy: 0.8256 - loss: 0.3875 - val_accuracy: 0.8036 - val_loss: 0.4256\n",
            "Epoch 51/100\n",
            "\u001b[1m313/313\u001b[0m \u001b[32m━━━━━━━━━━━━━━━━━━━━\u001b[0m\u001b[37m\u001b[0m \u001b[1m20s\u001b[0m 45ms/step - accuracy: 0.8265 - loss: 0.3882 - val_accuracy: 0.8010 - val_loss: 0.4320\n",
            "Epoch 52/100\n",
            "\u001b[1m313/313\u001b[0m \u001b[32m━━━━━━━━━━━━━━━━━━━━\u001b[0m\u001b[37m\u001b[0m \u001b[1m14s\u001b[0m 45ms/step - accuracy: 0.8265 - loss: 0.3858 - val_accuracy: 0.7996 - val_loss: 0.4360\n"
          ]
        }
      ]
    },
    {
      "cell_type": "code",
      "source": [
        "import matplotlib.pyplot as plt\n",
        "plt.plot(history.history['loss'])\n",
        "plt.plot(history.history['val_loss'])\n",
        "plt.xlabel('epoch')\n",
        "plt.ylabel('loss')\n",
        "plt.legend(['train', 'val'])\n",
        "plt.show()"
      ],
      "metadata": {
        "id": "VKGiefoI7ppS",
        "colab": {
          "base_uri": "https://localhost:8080/",
          "height": 449
        },
        "outputId": "9223c2c0-7aac-4bfa-da18-0c543413625e"
      },
      "execution_count": 36,
      "outputs": [
        {
          "output_type": "display_data",
          "data": {
            "text/plain": [
              "<Figure size 640x480 with 1 Axes>"
            ],
            "image/png": "[encoded data removed]"
          },
          "metadata": {}
        }
      ]
    },
    {
      "cell_type": "markdown",
      "source": [
        "### 순환층에 드롭아웃 적용하기"
      ],
      "metadata": {
        "id": "O73M9UQBDDi5"
      }
    },
    {
      "cell_type": "code",
      "source": [
        "model2 = keras.Sequential()\n",
        "model2.add(keras.layers.Embedding(500, 16, input_shape=(100,)))\n",
        "model2.add(keras.layers.LSTM(8, dropout=0.3))\n",
        "model2.add(keras.layers.Dense(1, activation='sigmoid'))"
      ],
      "metadata": {
        "id": "FhYc9rag7pqd"
      },
      "execution_count": 37,
      "outputs": []
    },
    {
      "cell_type": "code",
      "source": [
        "rmsprop = keras.optimizers.RMSprop(learning_rate=1e-4)\n",
        "model2.compile(optimizer=rmsprop, loss='binary_crossentropy',\n",
        "               metrics=['accuracy'])\n",
        "checkpoint_cb = keras.callbacks.ModelCheckpoint('best_dropout_model.keras',\n",
        "                                                save_best_only=True)\n",
        "early_stopping_cb = keras.callbacks.EarlyStopping(patience=3,\n",
        "                                                  restore_best_weights=True)\n",
        "history = model2.fit(train_seq, train_target, epochs=100, batch_size=64,\n",
        "                     validation_data=(val_seq, val_target),\n",
        "                     callbacks=[checkpoint_cb, early_stopping_cb])"
      ],
      "metadata": {
        "id": "rTQAsyIM7pr8",
        "colab": {
          "base_uri": "https://localhost:8080/"
        },
        "outputId": "157599a9-8af0-4e86-9fcd-8b20c8bbb74d"
      },
      "execution_count": 38,
      "outputs": [
        {
          "output_type": "stream",
          "name": "stdout",
          "text": [
            "Epoch 1/100\n",
            "\u001b[1m313/313\u001b[0m \u001b[32m━━━━━━━━━━━━━━━━━━━━\u001b[0m\u001b[37m\u001b[0m \u001b[1m18s\u001b[0m 48ms/step - accuracy: 0.5005 - loss: 0.6932 - val_accuracy: 0.5438 - val_loss: 0.6923\n",
            "Epoch 2/100\n",
            "\u001b[1m313/313\u001b[0m \u001b[32m━━━━━━━━━━━━━━━━━━━━\u001b[0m\u001b[37m\u001b[0m \u001b[1m18s\u001b[0m 56ms/step - accuracy: 0.5628 - loss: 0.6919 - val_accuracy: 0.5966 - val_loss: 0.6906\n",
            "Epoch 3/100\n",
            "\u001b[1m313/313\u001b[0m \u001b[32m━━━━━━━━━━━━━━━━━━━━\u001b[0m\u001b[37m\u001b[0m \u001b[1m20s\u001b[0m 54ms/step - accuracy: 0.5861 - loss: 0.6899 - val_accuracy: 0.6254 - val_loss: 0.6871\n",
            "Epoch 4/100\n",
            "\u001b[1m313/313\u001b[0m \u001b[32m━━━━━━━━━━━━━━━━━━━━\u001b[0m\u001b[37m\u001b[0m \u001b[1m19s\u001b[0m 48ms/step - accuracy: 0.6196 - loss: 0.6852 - val_accuracy: 0.6580 - val_loss: 0.6779\n",
            "Epoch 5/100\n",
            "\u001b[1m313/313\u001b[0m \u001b[32m━━━━━━━━━━━━━━━━━━━━\u001b[0m\u001b[37m\u001b[0m \u001b[1m19s\u001b[0m 45ms/step - accuracy: 0.6570 - loss: 0.6721 - val_accuracy: 0.7132 - val_loss: 0.6349\n",
            "Epoch 6/100\n",
            "\u001b[1m313/313\u001b[0m \u001b[32m━━━━━━━━━━━━━━━━━━━━\u001b[0m\u001b[37m\u001b[0m \u001b[1m15s\u001b[0m 47ms/step - accuracy: 0.6971 - loss: 0.6238 - val_accuracy: 0.7212 - val_loss: 0.5893\n",
            "Epoch 7/100\n",
            "\u001b[1m313/313\u001b[0m \u001b[32m━━━━━━━━━━━━━━━━━━━━\u001b[0m\u001b[37m\u001b[0m \u001b[1m21s\u001b[0m 49ms/step - accuracy: 0.7142 - loss: 0.5899 - val_accuracy: 0.7400 - val_loss: 0.5705\n",
            "Epoch 8/100\n",
            "\u001b[1m313/313\u001b[0m \u001b[32m━━━━━━━━━━━━━━━━━━━━\u001b[0m\u001b[37m\u001b[0m \u001b[1m24s\u001b[0m 59ms/step - accuracy: 0.7374 - loss: 0.5678 - val_accuracy: 0.7498 - val_loss: 0.5521\n",
            "Epoch 9/100\n",
            "\u001b[1m313/313\u001b[0m \u001b[32m━━━━━━━━━━━━━━━━━━━━\u001b[0m\u001b[37m\u001b[0m \u001b[1m16s\u001b[0m 50ms/step - accuracy: 0.7502 - loss: 0.5497 - val_accuracy: 0.7568 - val_loss: 0.5378\n",
            "Epoch 10/100\n",
            "\u001b[1m313/313\u001b[0m \u001b[32m━━━━━━━━━━━━━━━━━━━━\u001b[0m\u001b[37m\u001b[0m \u001b[1m15s\u001b[0m 47ms/step - accuracy: 0.7585 - loss: 0.5351 - val_accuracy: 0.7670 - val_loss: 0.5228\n",
            "Epoch 11/100\n",
            "\u001b[1m313/313\u001b[0m \u001b[32m━━━━━━━━━━━━━━━━━━━━\u001b[0m\u001b[37m\u001b[0m \u001b[1m14s\u001b[0m 45ms/step - accuracy: 0.7724 - loss: 0.5162 - val_accuracy: 0.7710 - val_loss: 0.5143\n",
            "Epoch 12/100\n",
            "\u001b[1m313/313\u001b[0m \u001b[32m━━━━━━━━━━━━━━━━━━━━\u001b[0m\u001b[37m\u001b[0m \u001b[1m22s\u001b[0m 50ms/step - accuracy: 0.7812 - loss: 0.5043 - val_accuracy: 0.7790 - val_loss: 0.5011\n",
            "Epoch 13/100\n",
            "\u001b[1m313/313\u001b[0m \u001b[32m━━━━━━━━━━━━━━━━━━━━\u001b[0m\u001b[37m\u001b[0m \u001b[1m18s\u001b[0m 58ms/step - accuracy: 0.7746 - loss: 0.4998 - val_accuracy: 0.7788 - val_loss: 0.4905\n",
            "Epoch 14/100\n",
            "\u001b[1m313/313\u001b[0m \u001b[32m━━━━━━━━━━━━━━━━━━━━\u001b[0m\u001b[37m\u001b[0m \u001b[1m17s\u001b[0m 48ms/step - accuracy: 0.7834 - loss: 0.4875 - val_accuracy: 0.7832 - val_loss: 0.4808\n",
            "Epoch 15/100\n",
            "\u001b[1m313/313\u001b[0m \u001b[32m━━━━━━━━━━━━━━━━━━━━\u001b[0m\u001b[37m\u001b[0m \u001b[1m16s\u001b[0m 50ms/step - accuracy: 0.7943 - loss: 0.4732 - val_accuracy: 0.7864 - val_loss: 0.4769\n",
            "Epoch 16/100\n",
            "\u001b[1m313/313\u001b[0m \u001b[32m━━━━━━━━━━━━━━━━━━━━\u001b[0m\u001b[37m\u001b[0m \u001b[1m19s\u001b[0m 46ms/step - accuracy: 0.7981 - loss: 0.4628 - val_accuracy: 0.7778 - val_loss: 0.4794\n",
            "Epoch 17/100\n",
            "\u001b[1m313/313\u001b[0m \u001b[32m━━━━━━━━━━━━━━━━━━━━\u001b[0m\u001b[37m\u001b[0m \u001b[1m15s\u001b[0m 48ms/step - accuracy: 0.7967 - loss: 0.4609 - val_accuracy: 0.7918 - val_loss: 0.4621\n",
            "Epoch 18/100\n",
            "\u001b[1m313/313\u001b[0m \u001b[32m━━━━━━━━━━━━━━━━━━━━\u001b[0m\u001b[37m\u001b[0m \u001b[1m21s\u001b[0m 49ms/step - accuracy: 0.8012 - loss: 0.4500 - val_accuracy: 0.7914 - val_loss: 0.4573\n",
            "Epoch 19/100\n",
            "\u001b[1m313/313\u001b[0m \u001b[32m━━━━━━━━━━━━━━━━━━━━\u001b[0m\u001b[37m\u001b[0m \u001b[1m19s\u001b[0m 45ms/step - accuracy: 0.8017 - loss: 0.4458 - val_accuracy: 0.7932 - val_loss: 0.4540\n",
            "Epoch 20/100\n",
            "\u001b[1m313/313\u001b[0m \u001b[32m━━━━━━━━━━━━━━━━━━━━\u001b[0m\u001b[37m\u001b[0m \u001b[1m15s\u001b[0m 47ms/step - accuracy: 0.8055 - loss: 0.4438 - val_accuracy: 0.7950 - val_loss: 0.4494\n",
            "Epoch 21/100\n",
            "\u001b[1m313/313\u001b[0m \u001b[32m━━━━━━━━━━━━━━━━━━━━\u001b[0m\u001b[37m\u001b[0m \u001b[1m20s\u001b[0m 45ms/step - accuracy: 0.8129 - loss: 0.4350 - val_accuracy: 0.7944 - val_loss: 0.4477\n",
            "Epoch 22/100\n",
            "\u001b[1m313/313\u001b[0m \u001b[32m━━━━━━━━━━━━━━━━━━━━\u001b[0m\u001b[37m\u001b[0m \u001b[1m22s\u001b[0m 49ms/step - accuracy: 0.8078 - loss: 0.4357 - val_accuracy: 0.7944 - val_loss: 0.4454\n",
            "Epoch 23/100\n",
            "\u001b[1m313/313\u001b[0m \u001b[32m━━━━━━━━━━━━━━━━━━━━\u001b[0m\u001b[37m\u001b[0m \u001b[1m20s\u001b[0m 47ms/step - accuracy: 0.8077 - loss: 0.4331 - val_accuracy: 0.7872 - val_loss: 0.4522\n",
            "Epoch 24/100\n",
            "\u001b[1m313/313\u001b[0m \u001b[32m━━━━━━━━━━━━━━━━━━━━\u001b[0m\u001b[37m\u001b[0m \u001b[1m21s\u001b[0m 47ms/step - accuracy: 0.8076 - loss: 0.4311 - val_accuracy: 0.7950 - val_loss: 0.4491\n",
            "Epoch 25/100\n",
            "\u001b[1m313/313\u001b[0m \u001b[32m━━━━━━━━━━━━━━━━━━━━\u001b[0m\u001b[37m\u001b[0m \u001b[1m22s\u001b[0m 50ms/step - accuracy: 0.8086 - loss: 0.4292 - val_accuracy: 0.7984 - val_loss: 0.4402\n",
            "Epoch 26/100\n",
            "\u001b[1m313/313\u001b[0m \u001b[32m━━━━━━━━━━━━━━━━━━━━\u001b[0m\u001b[37m\u001b[0m \u001b[1m19s\u001b[0m 47ms/step - accuracy: 0.8157 - loss: 0.4189 - val_accuracy: 0.7956 - val_loss: 0.4411\n",
            "Epoch 27/100\n",
            "\u001b[1m313/313\u001b[0m \u001b[32m━━━━━━━━━━━━━━━━━━━━\u001b[0m\u001b[37m\u001b[0m \u001b[1m20s\u001b[0m 45ms/step - accuracy: 0.8115 - loss: 0.4217 - val_accuracy: 0.7950 - val_loss: 0.4466\n",
            "Epoch 28/100\n",
            "\u001b[1m313/313\u001b[0m \u001b[32m━━━━━━━━━━━━━━━━━━━━\u001b[0m\u001b[37m\u001b[0m \u001b[1m21s\u001b[0m 46ms/step - accuracy: 0.8092 - loss: 0.4235 - val_accuracy: 0.7988 - val_loss: 0.4400\n",
            "Epoch 29/100\n",
            "\u001b[1m313/313\u001b[0m \u001b[32m━━━━━━━━━━━━━━━━━━━━\u001b[0m\u001b[37m\u001b[0m \u001b[1m15s\u001b[0m 47ms/step - accuracy: 0.8106 - loss: 0.4212 - val_accuracy: 0.7924 - val_loss: 0.4398\n",
            "Epoch 30/100\n",
            "\u001b[1m313/313\u001b[0m \u001b[32m━━━━━━━━━━━━━━━━━━━━\u001b[0m\u001b[37m\u001b[0m \u001b[1m20s\u001b[0m 46ms/step - accuracy: 0.8134 - loss: 0.4177 - val_accuracy: 0.7976 - val_loss: 0.4409\n",
            "Epoch 31/100\n",
            "\u001b[1m313/313\u001b[0m \u001b[32m━━━━━━━━━━━━━━━━━━━━\u001b[0m\u001b[37m\u001b[0m \u001b[1m21s\u001b[0m 47ms/step - accuracy: 0.8130 - loss: 0.4201 - val_accuracy: 0.8024 - val_loss: 0.4339\n",
            "Epoch 32/100\n",
            "\u001b[1m313/313\u001b[0m \u001b[32m━━━━━━━━━━━━━━━━━━━━\u001b[0m\u001b[37m\u001b[0m \u001b[1m14s\u001b[0m 46ms/step - accuracy: 0.8128 - loss: 0.4135 - val_accuracy: 0.7992 - val_loss: 0.4421\n",
            "Epoch 33/100\n",
            "\u001b[1m313/313\u001b[0m \u001b[32m━━━━━━━━━━━━━━━━━━━━\u001b[0m\u001b[37m\u001b[0m \u001b[1m20s\u001b[0m 45ms/step - accuracy: 0.8024 - loss: 0.4314 - val_accuracy: 0.8000 - val_loss: 0.4338\n",
            "Epoch 34/100\n",
            "\u001b[1m313/313\u001b[0m \u001b[32m━━━━━━━━━━━━━━━━━━━━\u001b[0m\u001b[37m\u001b[0m \u001b[1m21s\u001b[0m 46ms/step - accuracy: 0.8072 - loss: 0.4255 - val_accuracy: 0.8006 - val_loss: 0.4323\n",
            "Epoch 35/100\n",
            "\u001b[1m313/313\u001b[0m \u001b[32m━━━━━━━━━━━━━━━━━━━━\u001b[0m\u001b[37m\u001b[0m \u001b[1m20s\u001b[0m 46ms/step - accuracy: 0.8114 - loss: 0.4167 - val_accuracy: 0.7994 - val_loss: 0.4385\n",
            "Epoch 36/100\n",
            "\u001b[1m313/313\u001b[0m \u001b[32m━━━━━━━━━━━━━━━━━━━━\u001b[0m\u001b[37m\u001b[0m \u001b[1m14s\u001b[0m 45ms/step - accuracy: 0.8123 - loss: 0.4214 - val_accuracy: 0.7964 - val_loss: 0.4345\n",
            "Epoch 37/100\n",
            "\u001b[1m313/313\u001b[0m \u001b[32m━━━━━━━━━━━━━━━━━━━━\u001b[0m\u001b[37m\u001b[0m \u001b[1m15s\u001b[0m 48ms/step - accuracy: 0.8184 - loss: 0.4096 - val_accuracy: 0.8018 - val_loss: 0.4301\n",
            "Epoch 38/100\n",
            "\u001b[1m313/313\u001b[0m \u001b[32m━━━━━━━━━━━━━━━━━━━━\u001b[0m\u001b[37m\u001b[0m \u001b[1m20s\u001b[0m 47ms/step - accuracy: 0.8117 - loss: 0.4151 - val_accuracy: 0.8024 - val_loss: 0.4301\n",
            "Epoch 39/100\n",
            "\u001b[1m313/313\u001b[0m \u001b[32m━━━━━━━━━━━━━━━━━━━━\u001b[0m\u001b[37m\u001b[0m \u001b[1m14s\u001b[0m 46ms/step - accuracy: 0.8170 - loss: 0.4127 - val_accuracy: 0.8008 - val_loss: 0.4296\n",
            "Epoch 40/100\n",
            "\u001b[1m313/313\u001b[0m \u001b[32m━━━━━━━━━━━━━━━━━━━━\u001b[0m\u001b[37m\u001b[0m \u001b[1m21s\u001b[0m 46ms/step - accuracy: 0.8161 - loss: 0.4100 - val_accuracy: 0.8010 - val_loss: 0.4378\n",
            "Epoch 41/100\n",
            "\u001b[1m313/313\u001b[0m \u001b[32m━━━━━━━━━━━━━━━━━━━━\u001b[0m\u001b[37m\u001b[0m \u001b[1m15s\u001b[0m 48ms/step - accuracy: 0.8110 - loss: 0.4108 - val_accuracy: 0.8032 - val_loss: 0.4293\n",
            "Epoch 42/100\n",
            "\u001b[1m313/313\u001b[0m \u001b[32m━━━━━━━━━━━━━━━━━━━━\u001b[0m\u001b[37m\u001b[0m \u001b[1m15s\u001b[0m 47ms/step - accuracy: 0.8128 - loss: 0.4078 - val_accuracy: 0.8018 - val_loss: 0.4323\n",
            "Epoch 43/100\n",
            "\u001b[1m313/313\u001b[0m \u001b[32m━━━━━━━━━━━━━━━━━━━━\u001b[0m\u001b[37m\u001b[0m \u001b[1m15s\u001b[0m 48ms/step - accuracy: 0.8142 - loss: 0.4108 - val_accuracy: 0.7992 - val_loss: 0.4301\n",
            "Epoch 44/100\n",
            "\u001b[1m313/313\u001b[0m \u001b[32m━━━━━━━━━━━━━━━━━━━━\u001b[0m\u001b[37m\u001b[0m \u001b[1m20s\u001b[0m 46ms/step - accuracy: 0.8206 - loss: 0.4035 - val_accuracy: 0.8020 - val_loss: 0.4281\n",
            "Epoch 45/100\n",
            "\u001b[1m313/313\u001b[0m \u001b[32m━━━━━━━━━━━━━━━━━━━━\u001b[0m\u001b[37m\u001b[0m \u001b[1m21s\u001b[0m 47ms/step - accuracy: 0.8136 - loss: 0.4110 - val_accuracy: 0.8028 - val_loss: 0.4283\n",
            "Epoch 46/100\n",
            "\u001b[1m313/313\u001b[0m \u001b[32m━━━━━━━━━━━━━━━━━━━━\u001b[0m\u001b[37m\u001b[0m \u001b[1m15s\u001b[0m 47ms/step - accuracy: 0.8224 - loss: 0.3997 - val_accuracy: 0.8012 - val_loss: 0.4287\n",
            "Epoch 47/100\n",
            "\u001b[1m313/313\u001b[0m \u001b[32m━━━━━━━━━━━━━━━━━━━━\u001b[0m\u001b[37m\u001b[0m \u001b[1m20s\u001b[0m 47ms/step - accuracy: 0.8160 - loss: 0.4056 - val_accuracy: 0.8032 - val_loss: 0.4285\n"
          ]
        }
      ]
    },
    {
      "cell_type": "code",
      "source": [
        "plt.plot(history.history['loss'])\n",
        "plt.plot(history.history['val_loss'])\n",
        "plt.xlabel('epoch')\n",
        "plt.ylabel('loss')\n",
        "plt.legend(['train', 'val'])\n",
        "plt.show()"
      ],
      "metadata": {
        "id": "aovvzbtE9nap",
        "colab": {
          "base_uri": "https://localhost:8080/",
          "height": 449
        },
        "outputId": "19f56a8c-bee6-495c-b395-35bedb080031"
      },
      "execution_count": 39,
      "outputs": [
        {
          "output_type": "display_data",
          "data": {
            "text/plain": [
              "<Figure size 640x480 with 1 Axes>"
            ],
            "image/png": "[encoded data removed]"
          },
          "metadata": {}
        }
      ]
    },
    {
      "cell_type": "markdown",
      "source": [
        "### 2개의 층을 연결하기"
      ],
      "metadata": {
        "id": "xPGZAqkVDHuw"
      }
    },
    {
      "cell_type": "markdown",
      "source": [
        "![image.png](data:image/png;base64,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)"
      ],
      "metadata": {
        "id": "-2gI-GjBIg6s"
      }
    },
    {
      "cell_type": "markdown",
      "source": [
        "- **문장 전체의 특징을 알고 싶다면** → 마지막 타임스텝만 사용\n",
        "- **모든 시점의 정보를 사용하려면** → 전체 타임스텝의 h값 사용"
      ],
      "metadata": {
        "id": "K2OAebecIigQ"
      }
    },
    {
      "cell_type": "code",
      "source": [
        "model3 = keras.Sequential()\n",
        "model3.add(keras.layers.Embedding(500, 16, input_shape=(100,)))\n",
        "model3.add(keras.layers.LSTM(8, dropout=0.3, return_sequences=True))\n",
        "model3.add(keras.layers.LSTM(8, dropout=0.3))\n",
        "model3.add(keras.layers.Dense(1, activation='sigmoid'))"
      ],
      "metadata": {
        "id": "UrpoEU2p-EC2"
      },
      "execution_count": 40,
      "outputs": []
    },
    {
      "cell_type": "code",
      "source": [
        "model3.summary()"
      ],
      "metadata": {
        "id": "Qn_vcf5E-EpC",
        "colab": {
          "base_uri": "https://localhost:8080/",
          "height": 266
        },
        "outputId": "661d5d8e-82a7-411d-e824-39829b3a09df"
      },
      "execution_count": 41,
      "outputs": [
        {
          "output_type": "display_data",
          "data": {
            "text/plain": [
              "\u001b[1mModel: \"sequential_4\"\u001b[0m\n"
            ],
            "text/html": [
              "<pre style=\"white-space:pre;overflow-x:auto;line-height:normal;font-family:Menlo,'DejaVu Sans Mono',consolas,'Courier New',monospace\"><span style=\"font-weight: bold\">Model: \"sequential_4\"</span>\n",
              "</pre>\n"
            ]
          },
          "metadata": {}
        },
        {
          "output_type": "display_data",
          "data": {
            "text/plain": [
              "┏━━━━━━━━━━━━━━━━━━━━━━━━━━━━━━━━━┳━━━━━━━━━━━━━━━━━━━━━━━━┳━━━━━━━━━━━━━━━┓\n",
              "┃\u001b[1m \u001b[0m\u001b[1mLayer (type)                   \u001b[0m\u001b[1m \u001b[0m┃\u001b[1m \u001b[0m\u001b[1mOutput Shape          \u001b[0m\u001b[1m \u001b[0m┃\u001b[1m \u001b[0m\u001b[1m      Param #\u001b[0m\u001b[1m \u001b[0m┃\n",
              "┡━━━━━━━━━━━━━━━━━━━━━━━━━━━━━━━━━╇━━━━━━━━━━━━━━━━━━━━━━━━╇━━━━━━━━━━━━━━━┩\n",
              "│ embedding_3 (\u001b[38;5;33mEmbedding\u001b[0m)         │ (\u001b[38;5;45mNone\u001b[0m, \u001b[38;5;34m100\u001b[0m, \u001b[38;5;34m16\u001b[0m)        │         \u001b[38;5;34m8,000\u001b[0m │\n",
              "├─────────────────────────────────┼────────────────────────┼───────────────┤\n",
              "│ lstm_2 (\u001b[38;5;33mLSTM\u001b[0m)                   │ (\u001b[38;5;45mNone\u001b[0m, \u001b[38;5;34m100\u001b[0m, \u001b[38;5;34m8\u001b[0m)         │           \u001b[38;5;34m800\u001b[0m │\n",
              "├─────────────────────────────────┼────────────────────────┼───────────────┤\n",
              "│ lstm_3 (\u001b[38;5;33mLSTM\u001b[0m)                   │ (\u001b[38;5;45mNone\u001b[0m, \u001b[38;5;34m8\u001b[0m)              │           \u001b[38;5;34m544\u001b[0m │\n",
              "├─────────────────────────────────┼────────────────────────┼───────────────┤\n",
              "│ dense_4 (\u001b[38;5;33mDense\u001b[0m)                 │ (\u001b[38;5;45mNone\u001b[0m, \u001b[38;5;34m1\u001b[0m)              │             \u001b[38;5;34m9\u001b[0m │\n",
              "└─────────────────────────────────┴────────────────────────┴───────────────┘\n"
            ],
            "text/html": [
              "<pre style=\"white-space:pre;overflow-x:auto;line-height:normal;font-family:Menlo,'DejaVu Sans Mono',consolas,'Courier New',monospace\">┏━━━━━━━━━━━━━━━━━━━━━━━━━━━━━━━━━┳━━━━━━━━━━━━━━━━━━━━━━━━┳━━━━━━━━━━━━━━━┓\n",
              "┃<span style=\"font-weight: bold\"> Layer (type)                    </span>┃<span style=\"font-weight: bold\"> Output Shape           </span>┃<span style=\"font-weight: bold\">       Param # </span>┃\n",
              "┡━━━━━━━━━━━━━━━━━━━━━━━━━━━━━━━━━╇━━━━━━━━━━━━━━━━━━━━━━━━╇━━━━━━━━━━━━━━━┩\n",
              "│ embedding_3 (<span style=\"color: #0087ff; text-decoration-color: #0087ff\">Embedding</span>)         │ (<span style=\"color: #00d7ff; text-decoration-color: #00d7ff\">None</span>, <span style=\"color: #00af00; text-decoration-color: #00af00\">100</span>, <span style=\"color: #00af00; text-decoration-color: #00af00\">16</span>)        │         <span style=\"color: #00af00; text-decoration-color: #00af00\">8,000</span> │\n",
              "├─────────────────────────────────┼────────────────────────┼───────────────┤\n",
              "│ lstm_2 (<span style=\"color: #0087ff; text-decoration-color: #0087ff\">LSTM</span>)                   │ (<span style=\"color: #00d7ff; text-decoration-color: #00d7ff\">None</span>, <span style=\"color: #00af00; text-decoration-color: #00af00\">100</span>, <span style=\"color: #00af00; text-decoration-color: #00af00\">8</span>)         │           <span style=\"color: #00af00; text-decoration-color: #00af00\">800</span> │\n",
              "├─────────────────────────────────┼────────────────────────┼───────────────┤\n",
              "│ lstm_3 (<span style=\"color: #0087ff; text-decoration-color: #0087ff\">LSTM</span>)                   │ (<span style=\"color: #00d7ff; text-decoration-color: #00d7ff\">None</span>, <span style=\"color: #00af00; text-decoration-color: #00af00\">8</span>)              │           <span style=\"color: #00af00; text-decoration-color: #00af00\">544</span> │\n",
              "├─────────────────────────────────┼────────────────────────┼───────────────┤\n",
              "│ dense_4 (<span style=\"color: #0087ff; text-decoration-color: #0087ff\">Dense</span>)                 │ (<span style=\"color: #00d7ff; text-decoration-color: #00d7ff\">None</span>, <span style=\"color: #00af00; text-decoration-color: #00af00\">1</span>)              │             <span style=\"color: #00af00; text-decoration-color: #00af00\">9</span> │\n",
              "└─────────────────────────────────┴────────────────────────┴───────────────┘\n",
              "</pre>\n"
            ]
          },
          "metadata": {}
        },
        {
          "output_type": "display_data",
          "data": {
            "text/plain": [
              "\u001b[1m Total params: \u001b[0m\u001b[38;5;34m9,353\u001b[0m (36.54 KB)\n"
            ],
            "text/html": [
              "<pre style=\"white-space:pre;overflow-x:auto;line-height:normal;font-family:Menlo,'DejaVu Sans Mono',consolas,'Courier New',monospace\"><span style=\"font-weight: bold\"> Total params: </span><span style=\"color: #00af00; text-decoration-color: #00af00\">9,353</span> (36.54 KB)\n",
              "</pre>\n"
            ]
          },
          "metadata": {}
        },
        {
          "output_type": "display_data",
          "data": {
            "text/plain": [
              "\u001b[1m Trainable params: \u001b[0m\u001b[38;5;34m9,353\u001b[0m (36.54 KB)\n"
            ],
            "text/html": [
              "<pre style=\"white-space:pre;overflow-x:auto;line-height:normal;font-family:Menlo,'DejaVu Sans Mono',consolas,'Courier New',monospace\"><span style=\"font-weight: bold\"> Trainable params: </span><span style=\"color: #00af00; text-decoration-color: #00af00\">9,353</span> (36.54 KB)\n",
              "</pre>\n"
            ]
          },
          "metadata": {}
        },
        {
          "output_type": "display_data",
          "data": {
            "text/plain": [
              "\u001b[1m Non-trainable params: \u001b[0m\u001b[38;5;34m0\u001b[0m (0.00 B)\n"
            ],
            "text/html": [
              "<pre style=\"white-space:pre;overflow-x:auto;line-height:normal;font-family:Menlo,'DejaVu Sans Mono',consolas,'Courier New',monospace\"><span style=\"font-weight: bold\"> Non-trainable params: </span><span style=\"color: #00af00; text-decoration-color: #00af00\">0</span> (0.00 B)\n",
              "</pre>\n"
            ]
          },
          "metadata": {}
        }
      ]
    },
    {
      "cell_type": "code",
      "source": [
        "rmsprop = keras.optimizers.RMSprop(learning_rate=1e-4)\n",
        "model3.compile(optimizer=rmsprop, loss='binary_crossentropy',\n",
        "               metrics=['accuracy'])\n",
        "checkpoint_cb = keras.callbacks.ModelCheckpoint('best-2rnn-model.keras',\n",
        "                                                save_best_only=True)\n",
        "early_stopping_cb = keras.callbacks.EarlyStopping(patience=3,\n",
        "                                                  restore_best_weights=True)\n",
        "history = model3.fit(train_seq, train_target, epochs=100, batch_size=64,\n",
        "                     validation_data=(val_seq, val_target),\n",
        "                     callbacks=[checkpoint_cb, early_stopping_cb])"
      ],
      "metadata": {
        "id": "ZTHGYMM9-E8q",
        "colab": {
          "base_uri": "https://localhost:8080/"
        },
        "outputId": "4bc326f6-bb61-43ec-c28a-e72c6ee121d3"
      },
      "execution_count": 43,
      "outputs": [
        {
          "output_type": "stream",
          "name": "stdout",
          "text": [
            "Epoch 1/100\n",
            "\u001b[1m313/313\u001b[0m \u001b[32m━━━━━━━━━━━━━━━━━━━━\u001b[0m\u001b[37m\u001b[0m \u001b[1m34s\u001b[0m 91ms/step - accuracy: 0.5123 - loss: 0.6930 - val_accuracy: 0.5562 - val_loss: 0.6925\n",
            "Epoch 2/100\n",
            "\u001b[1m313/313\u001b[0m \u001b[32m━━━━━━━━━━━━━━━━━━━━\u001b[0m\u001b[37m\u001b[0m \u001b[1m40s\u001b[0m 87ms/step - accuracy: 0.5430 - loss: 0.6921 - val_accuracy: 0.5858 - val_loss: 0.6904\n",
            "Epoch 3/100\n",
            "\u001b[1m313/313\u001b[0m \u001b[32m━━━━━━━━━━━━━━━━━━━━\u001b[0m\u001b[37m\u001b[0m \u001b[1m27s\u001b[0m 86ms/step - accuracy: 0.5797 - loss: 0.6886 - val_accuracy: 0.6394 - val_loss: 0.6784\n",
            "Epoch 4/100\n",
            "\u001b[1m313/313\u001b[0m \u001b[32m━━━━━━━━━━━━━━━━━━━━\u001b[0m\u001b[37m\u001b[0m \u001b[1m27s\u001b[0m 87ms/step - accuracy: 0.6355 - loss: 0.6672 - val_accuracy: 0.6980 - val_loss: 0.6040\n",
            "Epoch 5/100\n",
            "\u001b[1m313/313\u001b[0m \u001b[32m━━━━━━━━━━━━━━━━━━━━\u001b[0m\u001b[37m\u001b[0m \u001b[1m41s\u001b[0m 85ms/step - accuracy: 0.6954 - loss: 0.5971 - val_accuracy: 0.7292 - val_loss: 0.5490\n",
            "Epoch 6/100\n",
            "\u001b[1m313/313\u001b[0m \u001b[32m━━━━━━━━━━━━━━━━━━━━\u001b[0m\u001b[37m\u001b[0m \u001b[1m41s\u001b[0m 86ms/step - accuracy: 0.7310 - loss: 0.5506 - val_accuracy: 0.7522 - val_loss: 0.5172\n",
            "Epoch 7/100\n",
            "\u001b[1m313/313\u001b[0m \u001b[32m━━━━━━━━━━━━━━━━━━━━\u001b[0m\u001b[37m\u001b[0m \u001b[1m28s\u001b[0m 91ms/step - accuracy: 0.7498 - loss: 0.5249 - val_accuracy: 0.7626 - val_loss: 0.4979\n",
            "Epoch 8/100\n",
            "\u001b[1m313/313\u001b[0m \u001b[32m━━━━━━━━━━━━━━━━━━━━\u001b[0m\u001b[37m\u001b[0m \u001b[1m40s\u001b[0m 86ms/step - accuracy: 0.7694 - loss: 0.4987 - val_accuracy: 0.7732 - val_loss: 0.4858\n",
            "Epoch 9/100\n",
            "\u001b[1m313/313\u001b[0m \u001b[32m━━━━━━━━━━━━━━━━━━━━\u001b[0m\u001b[37m\u001b[0m \u001b[1m42s\u001b[0m 89ms/step - accuracy: 0.7711 - loss: 0.4932 - val_accuracy: 0.7768 - val_loss: 0.4764\n",
            "Epoch 10/100\n",
            "\u001b[1m313/313\u001b[0m \u001b[32m━━━━━━━━━━━━━━━━━━━━\u001b[0m\u001b[37m\u001b[0m \u001b[1m39s\u001b[0m 85ms/step - accuracy: 0.7833 - loss: 0.4749 - val_accuracy: 0.7798 - val_loss: 0.4738\n",
            "Epoch 11/100\n",
            "\u001b[1m313/313\u001b[0m \u001b[32m━━━━━━━━━━━━━━━━━━━━\u001b[0m\u001b[37m\u001b[0m \u001b[1m26s\u001b[0m 84ms/step - accuracy: 0.7916 - loss: 0.4670 - val_accuracy: 0.7768 - val_loss: 0.4764\n",
            "Epoch 12/100\n",
            "\u001b[1m313/313\u001b[0m \u001b[32m━━━━━━━━━━━━━━━━━━━━\u001b[0m\u001b[37m\u001b[0m \u001b[1m41s\u001b[0m 86ms/step - accuracy: 0.7862 - loss: 0.4643 - val_accuracy: 0.7832 - val_loss: 0.4638\n",
            "Epoch 13/100\n",
            "\u001b[1m313/313\u001b[0m \u001b[32m━━━━━━━━━━━━━━━━━━━━\u001b[0m\u001b[37m\u001b[0m \u001b[1m44s\u001b[0m 95ms/step - accuracy: 0.7841 - loss: 0.4685 - val_accuracy: 0.7904 - val_loss: 0.4598\n",
            "Epoch 14/100\n",
            "\u001b[1m313/313\u001b[0m \u001b[32m━━━━━━━━━━━━━━━━━━━━\u001b[0m\u001b[37m\u001b[0m \u001b[1m39s\u001b[0m 90ms/step - accuracy: 0.7875 - loss: 0.4654 - val_accuracy: 0.7720 - val_loss: 0.4769\n",
            "Epoch 15/100\n",
            "\u001b[1m313/313\u001b[0m \u001b[32m━━━━━━━━━━━━━━━━━━━━\u001b[0m\u001b[37m\u001b[0m \u001b[1m40s\u001b[0m 87ms/step - accuracy: 0.7966 - loss: 0.4474 - val_accuracy: 0.7880 - val_loss: 0.4534\n",
            "Epoch 16/100\n",
            "\u001b[1m313/313\u001b[0m \u001b[32m━━━━━━━━━━━━━━━━━━━━\u001b[0m\u001b[37m\u001b[0m \u001b[1m41s\u001b[0m 88ms/step - accuracy: 0.8000 - loss: 0.4468 - val_accuracy: 0.7862 - val_loss: 0.4526\n",
            "Epoch 17/100\n",
            "\u001b[1m313/313\u001b[0m \u001b[32m━━━━━━━━━━━━━━━━━━━━\u001b[0m\u001b[37m\u001b[0m \u001b[1m27s\u001b[0m 86ms/step - accuracy: 0.8031 - loss: 0.4441 - val_accuracy: 0.7880 - val_loss: 0.4537\n",
            "Epoch 18/100\n",
            "\u001b[1m313/313\u001b[0m \u001b[32m━━━━━━━━━━━━━━━━━━━━\u001b[0m\u001b[37m\u001b[0m \u001b[1m42s\u001b[0m 90ms/step - accuracy: 0.7929 - loss: 0.4555 - val_accuracy: 0.7920 - val_loss: 0.4481\n",
            "Epoch 19/100\n",
            "\u001b[1m313/313\u001b[0m \u001b[32m━━━━━━━━━━━━━━━━━━━━\u001b[0m\u001b[37m\u001b[0m \u001b[1m41s\u001b[0m 91ms/step - accuracy: 0.7944 - loss: 0.4469 - val_accuracy: 0.7944 - val_loss: 0.4494\n",
            "Epoch 20/100\n",
            "\u001b[1m313/313\u001b[0m \u001b[32m━━━━━━━━━━━━━━━━━━━━\u001b[0m\u001b[37m\u001b[0m \u001b[1m28s\u001b[0m 90ms/step - accuracy: 0.8004 - loss: 0.4434 - val_accuracy: 0.7816 - val_loss: 0.4655\n",
            "Epoch 21/100\n",
            "\u001b[1m313/313\u001b[0m \u001b[32m━━━━━━━━━━━━━━━━━━━━\u001b[0m\u001b[37m\u001b[0m \u001b[1m40s\u001b[0m 88ms/step - accuracy: 0.8010 - loss: 0.4411 - val_accuracy: 0.7892 - val_loss: 0.4497\n"
          ]
        }
      ]
    },
    {
      "cell_type": "code",
      "source": [
        "plt.plot(history.history['loss'])\n",
        "plt.plot(history.history['val_loss'])\n",
        "plt.xlabel('epoch')\n",
        "plt.ylabel('loss')\n",
        "plt.legend(['train', 'val'])\n",
        "plt.show()"
      ],
      "metadata": {
        "id": "TKD-dSx-AtR6",
        "colab": {
          "base_uri": "https://localhost:8080/",
          "height": 449
        },
        "outputId": "cc684930-ca55-43bb-8a9a-f237b07fe289"
      },
      "execution_count": 44,
      "outputs": [
        {
          "output_type": "display_data",
          "data": {
            "text/plain": [
              "<Figure size 640x480 with 1 Axes>"
            ],
            "image/png": "[encoded data removed]"
          },
          "metadata": {}
        }
      ]
    },
    {
      "cell_type": "markdown",
      "source": [
        "### GRU 구조"
      ],
      "metadata": {
        "id": "TLWkDTITDLo3"
      }
    },
    {
      "cell_type": "markdown",
      "source": [
        "“Gated Recurrent Unit”의 약자\n",
        "\n",
        "LSTM보다 더 간단하고 계산량이 적은 버전\n",
        "\n",
        "LSTM은 **셀 상태(c)**와 **은닉 상태(h)**를 모두 다루지만,   \n",
        "GRU는 **은닉 상태(h)**만 사용함\n",
        "\n",
        "---\n",
        "\n",
        "**GRU 셀 구성 요소**\n",
        "\n",
        "GRU는 내부에 **게이트(gate)**라는 문을 사용해서 정보를 선택적으로 기억하거나 잊음\n",
        "\n",
        "| 구성 요소               | 역할                                        | 설명                     |\n",
        "|------------------------|---------------------------------------------|--------------------------|\n",
        "| 업데이트 게이트 (z) | 얼마나 이전 은닉 상태를 유지할지 결정        | “기억할까? 말까?” 결정   |\n",
        "| 리셋 게이트 (r) | 얼마나 과거 정보를 무시할지 결정             | “이건 잊어도 돼!” 판단   |\n",
        "| 후보 은닉 상태 (h̃) | 현재 입력을 바탕으로 새 은닉 상태 후보 계산 | `tanh` 함수 사용          |\n",
        "\n",
        "---\n",
        "\n",
        "**GRU의 작동 흐름 요약**\n",
        "\n",
        "1. **입력($x$)**과 **이전 은닉 상태($h_{t-1}$)**를 기반으로  \n",
        "   → 업데이트 게이트 `z`와 리셋 게이트 `r` 계산\n",
        "\n",
        "2. 리셋 게이트 `r`를 이용해 과거 정보를 일부 무시하고,  \n",
        "   → 새로운 후보 은닉 상태 `h̃` 생성\n",
        "\n",
        "3. 업데이트 게이트 `z`를 이용해  \n",
        "   → 기존 은닉 상태와 후보 은닉 상태를 적절히 섞어서 **최종 은닉 상태($h_t$)** 결정\n",
        "\n",
        "---\n",
        "\n",
        "**GRU vs LSTM**\n",
        "\n",
        "| 항목       | LSTM                           | GRU                        |\n",
        "|------------|--------------------------------|----------------------------|\n",
        "| 상태       | 셀 상태(c), 은닉 상태(h)       | 은닉 상태(h)만            |\n",
        "| 게이트 수  | 3개 (입력, 삭제, 출력)         | 2개 (업데이트, 리셋)      |\n",
        "| 계산량     | 더 많음                         | 더 적음                   |\n",
        "| 학습 속도  | 느릴 수 있음                    | 더 빠름                   |\n",
        "| 성능       | 복잡한 문제에 강함              | 가벼운 문제에 효과적      |"
      ],
      "metadata": {
        "id": "JfGn44zFDXGt"
      }
    },
    {
      "cell_type": "markdown",
      "source": [
        "### GRU 신경망 훈련하기"
      ],
      "metadata": {
        "id": "chnhcTmPDN3c"
      }
    },
    {
      "cell_type": "code",
      "source": [
        "model4 = keras.Sequential()\n",
        "model4.add(keras.layers.Embedding(500, 16, input_shape=(100,)))\n",
        "model4.add(keras.layers.GRU(8))\n",
        "model4.add(keras.layers.Dense(1, activation='sigmoid'))"
      ],
      "metadata": {
        "id": "16Xg3CSLAtUZ"
      },
      "execution_count": 45,
      "outputs": []
    },
    {
      "cell_type": "code",
      "source": [
        "model4.summary()"
      ],
      "metadata": {
        "id": "mGTmeQjnAtWh",
        "colab": {
          "base_uri": "https://localhost:8080/",
          "height": 232
        },
        "outputId": "8b2cda05-bf25-4252-dcb3-c0c7e5a2ca71"
      },
      "execution_count": 46,
      "outputs": [
        {
          "output_type": "display_data",
          "data": {
            "text/plain": [
              "\u001b[1mModel: \"sequential_5\"\u001b[0m\n"
            ],
            "text/html": [
              "<pre style=\"white-space:pre;overflow-x:auto;line-height:normal;font-family:Menlo,'DejaVu Sans Mono',consolas,'Courier New',monospace\"><span style=\"font-weight: bold\">Model: \"sequential_5\"</span>\n",
              "</pre>\n"
            ]
          },
          "metadata": {}
        },
        {
          "output_type": "display_data",
          "data": {
            "text/plain": [
              "┏━━━━━━━━━━━━━━━━━━━━━━━━━━━━━━━━━┳━━━━━━━━━━━━━━━━━━━━━━━━┳━━━━━━━━━━━━━━━┓\n",
              "┃\u001b[1m \u001b[0m\u001b[1mLayer (type)                   \u001b[0m\u001b[1m \u001b[0m┃\u001b[1m \u001b[0m\u001b[1mOutput Shape          \u001b[0m\u001b[1m \u001b[0m┃\u001b[1m \u001b[0m\u001b[1m      Param #\u001b[0m\u001b[1m \u001b[0m┃\n",
              "┡━━━━━━━━━━━━━━━━━━━━━━━━━━━━━━━━━╇━━━━━━━━━━━━━━━━━━━━━━━━╇━━━━━━━━━━━━━━━┩\n",
              "│ embedding_4 (\u001b[38;5;33mEmbedding\u001b[0m)         │ (\u001b[38;5;45mNone\u001b[0m, \u001b[38;5;34m100\u001b[0m, \u001b[38;5;34m16\u001b[0m)        │         \u001b[38;5;34m8,000\u001b[0m │\n",
              "├─────────────────────────────────┼────────────────────────┼───────────────┤\n",
              "│ gru (\u001b[38;5;33mGRU\u001b[0m)                       │ (\u001b[38;5;45mNone\u001b[0m, \u001b[38;5;34m8\u001b[0m)              │           \u001b[38;5;34m624\u001b[0m │\n",
              "├─────────────────────────────────┼────────────────────────┼───────────────┤\n",
              "│ dense_5 (\u001b[38;5;33mDense\u001b[0m)                 │ (\u001b[38;5;45mNone\u001b[0m, \u001b[38;5;34m1\u001b[0m)              │             \u001b[38;5;34m9\u001b[0m │\n",
              "└─────────────────────────────────┴────────────────────────┴───────────────┘\n"
            ],
            "text/html": [
              "<pre style=\"white-space:pre;overflow-x:auto;line-height:normal;font-family:Menlo,'DejaVu Sans Mono',consolas,'Courier New',monospace\">┏━━━━━━━━━━━━━━━━━━━━━━━━━━━━━━━━━┳━━━━━━━━━━━━━━━━━━━━━━━━┳━━━━━━━━━━━━━━━┓\n",
              "┃<span style=\"font-weight: bold\"> Layer (type)                    </span>┃<span style=\"font-weight: bold\"> Output Shape           </span>┃<span style=\"font-weight: bold\">       Param # </span>┃\n",
              "┡━━━━━━━━━━━━━━━━━━━━━━━━━━━━━━━━━╇━━━━━━━━━━━━━━━━━━━━━━━━╇━━━━━━━━━━━━━━━┩\n",
              "│ embedding_4 (<span style=\"color: #0087ff; text-decoration-color: #0087ff\">Embedding</span>)         │ (<span style=\"color: #00d7ff; text-decoration-color: #00d7ff\">None</span>, <span style=\"color: #00af00; text-decoration-color: #00af00\">100</span>, <span style=\"color: #00af00; text-decoration-color: #00af00\">16</span>)        │         <span style=\"color: #00af00; text-decoration-color: #00af00\">8,000</span> │\n",
              "├─────────────────────────────────┼────────────────────────┼───────────────┤\n",
              "│ gru (<span style=\"color: #0087ff; text-decoration-color: #0087ff\">GRU</span>)                       │ (<span style=\"color: #00d7ff; text-decoration-color: #00d7ff\">None</span>, <span style=\"color: #00af00; text-decoration-color: #00af00\">8</span>)              │           <span style=\"color: #00af00; text-decoration-color: #00af00\">624</span> │\n",
              "├─────────────────────────────────┼────────────────────────┼───────────────┤\n",
              "│ dense_5 (<span style=\"color: #0087ff; text-decoration-color: #0087ff\">Dense</span>)                 │ (<span style=\"color: #00d7ff; text-decoration-color: #00d7ff\">None</span>, <span style=\"color: #00af00; text-decoration-color: #00af00\">1</span>)              │             <span style=\"color: #00af00; text-decoration-color: #00af00\">9</span> │\n",
              "└─────────────────────────────────┴────────────────────────┴───────────────┘\n",
              "</pre>\n"
            ]
          },
          "metadata": {}
        },
        {
          "output_type": "display_data",
          "data": {
            "text/plain": [
              "\u001b[1m Total params: \u001b[0m\u001b[38;5;34m8,633\u001b[0m (33.72 KB)\n"
            ],
            "text/html": [
              "<pre style=\"white-space:pre;overflow-x:auto;line-height:normal;font-family:Menlo,'DejaVu Sans Mono',consolas,'Courier New',monospace\"><span style=\"font-weight: bold\"> Total params: </span><span style=\"color: #00af00; text-decoration-color: #00af00\">8,633</span> (33.72 KB)\n",
              "</pre>\n"
            ]
          },
          "metadata": {}
        },
        {
          "output_type": "display_data",
          "data": {
            "text/plain": [
              "\u001b[1m Trainable params: \u001b[0m\u001b[38;5;34m8,633\u001b[0m (33.72 KB)\n"
            ],
            "text/html": [
              "<pre style=\"white-space:pre;overflow-x:auto;line-height:normal;font-family:Menlo,'DejaVu Sans Mono',consolas,'Courier New',monospace\"><span style=\"font-weight: bold\"> Trainable params: </span><span style=\"color: #00af00; text-decoration-color: #00af00\">8,633</span> (33.72 KB)\n",
              "</pre>\n"
            ]
          },
          "metadata": {}
        },
        {
          "output_type": "display_data",
          "data": {
            "text/plain": [
              "\u001b[1m Non-trainable params: \u001b[0m\u001b[38;5;34m0\u001b[0m (0.00 B)\n"
            ],
            "text/html": [
              "<pre style=\"white-space:pre;overflow-x:auto;line-height:normal;font-family:Menlo,'DejaVu Sans Mono',consolas,'Courier New',monospace\"><span style=\"font-weight: bold\"> Non-trainable params: </span><span style=\"color: #00af00; text-decoration-color: #00af00\">0</span> (0.00 B)\n",
              "</pre>\n"
            ]
          },
          "metadata": {}
        }
      ]
    },
    {
      "cell_type": "code",
      "source": [
        "rmsprop = keras.optimizers.RMSprop(learning_rate=1e-4)\n",
        "model4.compile(optimizer=rmsprop, loss='binary_crossentropy',\n",
        "               metrics=['accuracy'])\n",
        "checkpoint_cb = keras.callbacks.ModelCheckpoint('best-gru-model.keras',\n",
        "                                                save_best_only=True)\n",
        "early_stopping_cb = keras.callbacks.EarlyStopping(patience=3,\n",
        "                                                  restore_best_weights=True)\n",
        "history = model4.fit(train_seq, train_target, epochs=100, batch_size=64,\n",
        "                     validation_data=(val_seq, val_target),\n",
        "                     callbacks=[checkpoint_cb, early_stopping_cb])"
      ],
      "metadata": {
        "id": "rnwjKMggBGML",
        "colab": {
          "base_uri": "https://localhost:8080/"
        },
        "outputId": "85c0ae29-9c96-4d1a-d235-df6cf5826adf"
      },
      "execution_count": 47,
      "outputs": [
        {
          "output_type": "stream",
          "name": "stdout",
          "text": [
            "Epoch 1/100\n",
            "\u001b[1m313/313\u001b[0m \u001b[32m━━━━━━━━━━━━━━━━━━━━\u001b[0m\u001b[37m\u001b[0m \u001b[1m21s\u001b[0m 57ms/step - accuracy: 0.5060 - loss: 0.6929 - val_accuracy: 0.5492 - val_loss: 0.6913\n",
            "Epoch 2/100\n",
            "\u001b[1m313/313\u001b[0m \u001b[32m━━━━━━━━━━━━━━━━━━━━\u001b[0m\u001b[37m\u001b[0m \u001b[1m21s\u001b[0m 58ms/step - accuracy: 0.5504 - loss: 0.6910 - val_accuracy: 0.5742 - val_loss: 0.6896\n",
            "Epoch 3/100\n",
            "\u001b[1m313/313\u001b[0m \u001b[32m━━━━━━━━━━━━━━━━━━━━\u001b[0m\u001b[37m\u001b[0m \u001b[1m18s\u001b[0m 56ms/step - accuracy: 0.5674 - loss: 0.6889 - val_accuracy: 0.5824 - val_loss: 0.6863\n",
            "Epoch 4/100\n",
            "\u001b[1m313/313\u001b[0m \u001b[32m━━━━━━━━━━━━━━━━━━━━\u001b[0m\u001b[37m\u001b[0m \u001b[1m21s\u001b[0m 58ms/step - accuracy: 0.5884 - loss: 0.6850 - val_accuracy: 0.5908 - val_loss: 0.6815\n",
            "Epoch 5/100\n",
            "\u001b[1m313/313\u001b[0m \u001b[32m━━━━━━━━━━━━━━━━━━━━\u001b[0m\u001b[37m\u001b[0m \u001b[1m18s\u001b[0m 56ms/step - accuracy: 0.6038 - loss: 0.6788 - val_accuracy: 0.6016 - val_loss: 0.6739\n",
            "Epoch 6/100\n",
            "\u001b[1m313/313\u001b[0m \u001b[32m━━━━━━━━━━━━━━━━━━━━\u001b[0m\u001b[37m\u001b[0m \u001b[1m22s\u001b[0m 60ms/step - accuracy: 0.6153 - loss: 0.6701 - val_accuracy: 0.6164 - val_loss: 0.6623\n",
            "Epoch 7/100\n",
            "\u001b[1m313/313\u001b[0m \u001b[32m━━━━━━━━━━━━━━━━━━━━\u001b[0m\u001b[37m\u001b[0m \u001b[1m18s\u001b[0m 56ms/step - accuracy: 0.6379 - loss: 0.6553 - val_accuracy: 0.6410 - val_loss: 0.6452\n",
            "Epoch 8/100\n",
            "\u001b[1m313/313\u001b[0m \u001b[32m━━━━━━━━━━━━━━━━━━━━\u001b[0m\u001b[37m\u001b[0m \u001b[1m23s\u001b[0m 63ms/step - accuracy: 0.6548 - loss: 0.6350 - val_accuracy: 0.6702 - val_loss: 0.6181\n",
            "Epoch 9/100\n",
            "\u001b[1m313/313\u001b[0m \u001b[32m━━━━━━━━━━━━━━━━━━━━\u001b[0m\u001b[37m\u001b[0m \u001b[1m18s\u001b[0m 56ms/step - accuracy: 0.6834 - loss: 0.6017 - val_accuracy: 0.7120 - val_loss: 0.5708\n",
            "Epoch 10/100\n",
            "\u001b[1m313/313\u001b[0m \u001b[32m━━━━━━━━━━━━━━━━━━━━\u001b[0m\u001b[37m\u001b[0m \u001b[1m22s\u001b[0m 60ms/step - accuracy: 0.7290 - loss: 0.5423 - val_accuracy: 0.7488 - val_loss: 0.5115\n",
            "Epoch 11/100\n",
            "\u001b[1m313/313\u001b[0m \u001b[32m━━━━━━━━━━━━━━━━━━━━\u001b[0m\u001b[37m\u001b[0m \u001b[1m18s\u001b[0m 56ms/step - accuracy: 0.7569 - loss: 0.4999 - val_accuracy: 0.7660 - val_loss: 0.4942\n",
            "Epoch 12/100\n",
            "\u001b[1m313/313\u001b[0m \u001b[32m━━━━━━━━━━━━━━━━━━━━\u001b[0m\u001b[37m\u001b[0m \u001b[1m22s\u001b[0m 60ms/step - accuracy: 0.7698 - loss: 0.4840 - val_accuracy: 0.7574 - val_loss: 0.4955\n",
            "Epoch 13/100\n",
            "\u001b[1m313/313\u001b[0m \u001b[32m━━━━━━━━━━━━━━━━━━━━\u001b[0m\u001b[37m\u001b[0m \u001b[1m18s\u001b[0m 56ms/step - accuracy: 0.7834 - loss: 0.4648 - val_accuracy: 0.7810 - val_loss: 0.4720\n",
            "Epoch 14/100\n",
            "\u001b[1m313/313\u001b[0m \u001b[32m━━━━━━━━━━━━━━━━━━━━\u001b[0m\u001b[37m\u001b[0m \u001b[1m18s\u001b[0m 57ms/step - accuracy: 0.7953 - loss: 0.4521 - val_accuracy: 0.7828 - val_loss: 0.4637\n",
            "Epoch 15/100\n",
            "\u001b[1m313/313\u001b[0m \u001b[32m━━━━━━━━━━━━━━━━━━━━\u001b[0m\u001b[37m\u001b[0m \u001b[1m20s\u001b[0m 57ms/step - accuracy: 0.7972 - loss: 0.4450 - val_accuracy: 0.7844 - val_loss: 0.4611\n",
            "Epoch 16/100\n",
            "\u001b[1m313/313\u001b[0m \u001b[32m━━━━━━━━━━━━━━━━━━━━\u001b[0m\u001b[37m\u001b[0m \u001b[1m21s\u001b[0m 60ms/step - accuracy: 0.7998 - loss: 0.4429 - val_accuracy: 0.7826 - val_loss: 0.4637\n",
            "Epoch 17/100\n",
            "\u001b[1m313/313\u001b[0m \u001b[32m━━━━━━━━━━━━━━━━━━━━\u001b[0m\u001b[37m\u001b[0m \u001b[1m20s\u001b[0m 57ms/step - accuracy: 0.8028 - loss: 0.4348 - val_accuracy: 0.7882 - val_loss: 0.4540\n",
            "Epoch 18/100\n",
            "\u001b[1m313/313\u001b[0m \u001b[32m━━━━━━━━━━━━━━━━━━━━\u001b[0m\u001b[37m\u001b[0m \u001b[1m22s\u001b[0m 61ms/step - accuracy: 0.8025 - loss: 0.4384 - val_accuracy: 0.7900 - val_loss: 0.4520\n",
            "Epoch 19/100\n",
            "\u001b[1m313/313\u001b[0m \u001b[32m━━━━━━━━━━━━━━━━━━━━\u001b[0m\u001b[37m\u001b[0m \u001b[1m19s\u001b[0m 57ms/step - accuracy: 0.8067 - loss: 0.4323 - val_accuracy: 0.7886 - val_loss: 0.4573\n",
            "Epoch 20/100\n",
            "\u001b[1m313/313\u001b[0m \u001b[32m━━━━━━━━━━━━━━━━━━━━\u001b[0m\u001b[37m\u001b[0m \u001b[1m21s\u001b[0m 68ms/step - accuracy: 0.8055 - loss: 0.4365 - val_accuracy: 0.7920 - val_loss: 0.4473\n",
            "Epoch 21/100\n",
            "\u001b[1m313/313\u001b[0m \u001b[32m━━━━━━━━━━━━━━━━━━━━\u001b[0m\u001b[37m\u001b[0m \u001b[1m38s\u001b[0m 60ms/step - accuracy: 0.8044 - loss: 0.4313 - val_accuracy: 0.7942 - val_loss: 0.4463\n",
            "Epoch 22/100\n",
            "\u001b[1m313/313\u001b[0m \u001b[32m━━━━━━━━━━━━━━━━━━━━\u001b[0m\u001b[37m\u001b[0m \u001b[1m18s\u001b[0m 56ms/step - accuracy: 0.8066 - loss: 0.4291 - val_accuracy: 0.7918 - val_loss: 0.4470\n",
            "Epoch 23/100\n",
            "\u001b[1m313/313\u001b[0m \u001b[32m━━━━━━━━━━━━━━━━━━━━\u001b[0m\u001b[37m\u001b[0m \u001b[1m18s\u001b[0m 57ms/step - accuracy: 0.8086 - loss: 0.4281 - val_accuracy: 0.7940 - val_loss: 0.4468\n",
            "Epoch 24/100\n",
            "\u001b[1m313/313\u001b[0m \u001b[32m━━━━━━━━━━━━━━━━━━━━\u001b[0m\u001b[37m\u001b[0m \u001b[1m20s\u001b[0m 55ms/step - accuracy: 0.8085 - loss: 0.4275 - val_accuracy: 0.7962 - val_loss: 0.4436\n",
            "Epoch 25/100\n",
            "\u001b[1m313/313\u001b[0m \u001b[32m━━━━━━━━━━━━━━━━━━━━\u001b[0m\u001b[37m\u001b[0m \u001b[1m18s\u001b[0m 57ms/step - accuracy: 0.8123 - loss: 0.4204 - val_accuracy: 0.7898 - val_loss: 0.4525\n",
            "Epoch 26/100\n",
            "\u001b[1m313/313\u001b[0m \u001b[32m━━━━━━━━━━━━━━━━━━━━\u001b[0m\u001b[37m\u001b[0m \u001b[1m21s\u001b[0m 58ms/step - accuracy: 0.8076 - loss: 0.4262 - val_accuracy: 0.7898 - val_loss: 0.4444\n",
            "Epoch 27/100\n",
            "\u001b[1m313/313\u001b[0m \u001b[32m━━━━━━━━━━━━━━━━━━━━\u001b[0m\u001b[37m\u001b[0m \u001b[1m18s\u001b[0m 56ms/step - accuracy: 0.8087 - loss: 0.4271 - val_accuracy: 0.7970 - val_loss: 0.4426\n",
            "Epoch 28/100\n",
            "\u001b[1m313/313\u001b[0m \u001b[32m━━━━━━━━━━━━━━━━━━━━\u001b[0m\u001b[37m\u001b[0m \u001b[1m19s\u001b[0m 60ms/step - accuracy: 0.8094 - loss: 0.4214 - val_accuracy: 0.7956 - val_loss: 0.4421\n",
            "Epoch 29/100\n",
            "\u001b[1m313/313\u001b[0m \u001b[32m━━━━━━━━━━━━━━━━━━━━\u001b[0m\u001b[37m\u001b[0m \u001b[1m19s\u001b[0m 56ms/step - accuracy: 0.8157 - loss: 0.4174 - val_accuracy: 0.7954 - val_loss: 0.4418\n",
            "Epoch 30/100\n",
            "\u001b[1m313/313\u001b[0m \u001b[32m━━━━━━━━━━━━━━━━━━━━\u001b[0m\u001b[37m\u001b[0m \u001b[1m22s\u001b[0m 61ms/step - accuracy: 0.8107 - loss: 0.4177 - val_accuracy: 0.7962 - val_loss: 0.4419\n",
            "Epoch 31/100\n",
            "\u001b[1m313/313\u001b[0m \u001b[32m━━━━━━━━━━━━━━━━━━━━\u001b[0m\u001b[37m\u001b[0m \u001b[1m19s\u001b[0m 61ms/step - accuracy: 0.8109 - loss: 0.4195 - val_accuracy: 0.7962 - val_loss: 0.4409\n",
            "Epoch 32/100\n",
            "\u001b[1m313/313\u001b[0m \u001b[32m━━━━━━━━━━━━━━━━━━━━\u001b[0m\u001b[37m\u001b[0m \u001b[1m20s\u001b[0m 61ms/step - accuracy: 0.8080 - loss: 0.4209 - val_accuracy: 0.7938 - val_loss: 0.4528\n",
            "Epoch 33/100\n",
            "\u001b[1m313/313\u001b[0m \u001b[32m━━━━━━━━━━━━━━━━━━━━\u001b[0m\u001b[37m\u001b[0m \u001b[1m19s\u001b[0m 57ms/step - accuracy: 0.8153 - loss: 0.4136 - val_accuracy: 0.7944 - val_loss: 0.4403\n",
            "Epoch 34/100\n",
            "\u001b[1m313/313\u001b[0m \u001b[32m━━━━━━━━━━━━━━━━━━━━\u001b[0m\u001b[37m\u001b[0m \u001b[1m22s\u001b[0m 61ms/step - accuracy: 0.8140 - loss: 0.4135 - val_accuracy: 0.7948 - val_loss: 0.4446\n",
            "Epoch 35/100\n",
            "\u001b[1m313/313\u001b[0m \u001b[32m━━━━━━━━━━━━━━━━━━━━\u001b[0m\u001b[37m\u001b[0m \u001b[1m18s\u001b[0m 57ms/step - accuracy: 0.8116 - loss: 0.4169 - val_accuracy: 0.7950 - val_loss: 0.4405\n",
            "Epoch 36/100\n",
            "\u001b[1m313/313\u001b[0m \u001b[32m━━━━━━━━━━━━━━━━━━━━\u001b[0m\u001b[37m\u001b[0m \u001b[1m22s\u001b[0m 61ms/step - accuracy: 0.8064 - loss: 0.4218 - val_accuracy: 0.7968 - val_loss: 0.4406\n"
          ]
        }
      ]
    },
    {
      "cell_type": "code",
      "source": [
        "plt.plot(history.history['loss'])\n",
        "plt.plot(history.history['val_loss'])\n",
        "plt.xlabel('epoch')\n",
        "plt.ylabel('loss')\n",
        "plt.legend(['train', 'val'])\n",
        "plt.show()"
      ],
      "metadata": {
        "id": "m3FOvIMABGOT",
        "colab": {
          "base_uri": "https://localhost:8080/",
          "height": 449
        },
        "outputId": "bfaada46-86af-4439-cd79-f3e77e0d7c45"
      },
      "execution_count": 48,
      "outputs": [
        {
          "output_type": "display_data",
          "data": {
            "text/plain": [
              "<Figure size 640x480 with 1 Axes>"
            ],
            "image/png": "[encoded data removed]"
          },
          "metadata": {}
        }
      ]
    },
    {
      "cell_type": "code",
      "source": [
        "test_seq = pad_sequences(test_input, maxlen=100)\n",
        "rnn_model = keras.models.load_model('best-2rnn-model.keras')\n",
        "rnn_model.evaluate(test_seq, test_target)"
      ],
      "metadata": {
        "id": "-44MWG_OBGRL",
        "colab": {
          "base_uri": "https://localhost:8080/"
        },
        "outputId": "662bcbea-3f96-420f-cd6a-e5ecfdd1c33a"
      },
      "execution_count": 49,
      "outputs": [
        {
          "output_type": "stream",
          "name": "stdout",
          "text": [
            "\u001b[1m782/782\u001b[0m \u001b[32m━━━━━━━━━━━━━━━━━━━━\u001b[0m\u001b[37m\u001b[0m \u001b[1m15s\u001b[0m 17ms/step - accuracy: 0.7925 - loss: 0.4448\n"
          ]
        },
        {
          "output_type": "execute_result",
          "data": {
            "text/plain": [
              "[0.44635170698165894, 0.7919600009918213]"
            ]
          },
          "metadata": {},
          "execution_count": 49
        }
      ]
    }
  ]
}